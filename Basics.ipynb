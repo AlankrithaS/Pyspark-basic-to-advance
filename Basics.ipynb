{
  "cells": [
    {
      "cell_type": "markdown",
      "metadata": {
        "application/vnd.databricks.v1+cell": {
          "cellMetadata": {
            "byteLimit": 2048000,
            "rowLimit": 10000
          },
          "inputWidgets": {},
          "nuid": "50dc946f-581c-4d43-a285-f95b69a522e3",
          "showTitle": false,
          "tableResultSettingsMap": {},
          "title": ""
        },
        "id": "IPhbjxjMivXg"
      },
      "source": [
        "# DATA READING"
      ]
    },
    {
      "cell_type": "markdown",
      "metadata": {
        "application/vnd.databricks.v1+cell": {
          "cellMetadata": {
            "byteLimit": 2048000,
            "rowLimit": 10000
          },
          "inputWidgets": {},
          "nuid": "5c513a09-fb47-4f38-a659-a77c25c2ecb6",
          "showTitle": false,
          "tableResultSettingsMap": {},
          "title": ""
        },
        "id": "pP4BiP_ZivXm"
      },
      "source": [
        "### Data Reading JSON"
      ]
    },
    {
      "cell_type": "code",
      "source": [
        "df_json = spark.read.format('json').option('inferSchema',True)\\\n",
        "                    .option('header',True)\\\n",
        "                    .option('multiLine',False)\\\n",
        "                    .load('/FileStore/tables/drivers.json')"
      ],
      "metadata": {
        "id": "1Hctgn_slOTf"
      },
      "execution_count": null,
      "outputs": []
    },
    {
      "cell_type": "code",
      "execution_count": null,
      "metadata": {
        "application/vnd.databricks.v1+cell": {
          "cellMetadata": {
            "byteLimit": 2048000,
            "rowLimit": 10000
          },
          "inputWidgets": {},
          "nuid": "092de245-b26f-4595-9c5e-5bd3f0ccd421",
          "showTitle": false,
          "tableResultSettingsMap": {},
          "title": ""
        },
        "id": "KvmBtKJeivXq"
      },
      "outputs": [],
      "source": [
        "df_json.display()"
      ]
    },
    {
      "cell_type": "markdown",
      "metadata": {
        "application/vnd.databricks.v1+cell": {
          "cellMetadata": {
            "byteLimit": 2048000,
            "rowLimit": 10000
          },
          "inputWidgets": {},
          "nuid": "94448970-28c3-4592-8486-6d5059c60e72",
          "showTitle": false,
          "tableResultSettingsMap": {},
          "title": ""
        },
        "id": "C_RIrLtSivXs"
      },
      "source": [
        "### Data Reading Utils"
      ]
    },
    {
      "cell_type": "code",
      "execution_count": null,
      "metadata": {
        "application/vnd.databricks.v1+cell": {
          "cellMetadata": {
            "byteLimit": 2048000,
            "rowLimit": 10000
          },
          "inputWidgets": {},
          "nuid": "2fdc44cb-a9ea-4aef-97d3-770c13b98994",
          "showTitle": false,
          "tableResultSettingsMap": {},
          "title": ""
        },
        "id": "SNGDz3oEivXu"
      },
      "outputs": [],
      "source": [
        "dbutils.fs.ls('/FileStore/tables/')"
      ]
    },
    {
      "cell_type": "code",
      "execution_count": null,
      "metadata": {
        "application/vnd.databricks.v1+cell": {
          "cellMetadata": {
            "byteLimit": 2048000,
            "rowLimit": 10000
          },
          "inputWidgets": {},
          "nuid": "8845a04d-bfaf-4b0c-91d3-34f521c00388",
          "showTitle": false,
          "tableResultSettingsMap": {},
          "title": ""
        },
        "id": "UCR2oEKxivXv"
      },
      "outputs": [],
      "source": [
        "df = spark.read.format('csv').option('inferSchema',True).option('header',True).load('/FileStore/tables/BigMart_Sales.csv')"
      ]
    },
    {
      "cell_type": "code",
      "execution_count": null,
      "metadata": {
        "application/vnd.databricks.v1+cell": {
          "cellMetadata": {
            "byteLimit": 2048000,
            "rowLimit": 10000
          },
          "inputWidgets": {},
          "nuid": "ab8eee03-fa40-4e9b-abd9-59246b013591",
          "showTitle": false,
          "tableResultSettingsMap": {},
          "title": ""
        },
        "id": "1IZiVc4IivXx"
      },
      "outputs": [],
      "source": [
        "df.display()"
      ]
    },
    {
      "cell_type": "markdown",
      "metadata": {
        "application/vnd.databricks.v1+cell": {
          "cellMetadata": {
            "byteLimit": 2048000,
            "rowLimit": 10000
          },
          "inputWidgets": {},
          "nuid": "50264ad2-b935-4860-90fc-0f6b490bee0a",
          "showTitle": false,
          "tableResultSettingsMap": {},
          "title": ""
        },
        "id": "UE29LMrIivXz"
      },
      "source": [
        "### Schema Definition"
      ]
    },
    {
      "cell_type": "code",
      "execution_count": null,
      "metadata": {
        "application/vnd.databricks.v1+cell": {
          "cellMetadata": {
            "byteLimit": 2048000,
            "rowLimit": 10000
          },
          "inputWidgets": {},
          "nuid": "f694b13a-8f68-42d7-8dde-b342ebac7140",
          "showTitle": false,
          "tableResultSettingsMap": {},
          "title": ""
        },
        "id": "4L89ZmjvivX0"
      },
      "outputs": [],
      "source": [
        "df.printSchema()"
      ]
    },
    {
      "cell_type": "markdown",
      "metadata": {
        "application/vnd.databricks.v1+cell": {
          "cellMetadata": {
            "byteLimit": 2048000,
            "rowLimit": 10000
          },
          "inputWidgets": {},
          "nuid": "491c8370-79cd-42fd-9354-f95c60468c68",
          "showTitle": false,
          "tableResultSettingsMap": {},
          "title": ""
        },
        "id": "np0XnrzMivX1"
      },
      "source": [
        "### DDL SCHEMA"
      ]
    },
    {
      "cell_type": "code",
      "execution_count": null,
      "metadata": {
        "application/vnd.databricks.v1+cell": {
          "cellMetadata": {
            "byteLimit": 2048000,
            "rowLimit": 10000
          },
          "inputWidgets": {},
          "nuid": "edb16155-bc86-4bac-bf1a-9fd6abb95a82",
          "showTitle": false,
          "tableResultSettingsMap": {},
          "title": ""
        },
        "id": "Czwh1USbivX2"
      },
      "outputs": [],
      "source": [
        "my_ddl_schema = '''\n",
        "                    Item_Identifier STRING,\n",
        "                    Item_Weight STRING,\n",
        "                    Item_Fat_Content STRING,\n",
        "                    Item_Visibility DOUBLE,\n",
        "                    Item_Type STRING,\n",
        "                    Item_MRP DOUBLE,\n",
        "                    Outlet_Identifier STRING,\n",
        "                    Outlet_Establishment_Year INT,\n",
        "                    Outlet_Size STRING,\n",
        "                    Outlet_Location_Type STRING,\n",
        "                    Outlet_Type STRING,\n",
        "                    Item_Outlet_Sales DOUBLE\n",
        "\n",
        "                '''"
      ]
    },
    {
      "cell_type": "code",
      "execution_count": null,
      "metadata": {
        "application/vnd.databricks.v1+cell": {
          "cellMetadata": {
            "byteLimit": 2048000,
            "rowLimit": 10000
          },
          "inputWidgets": {},
          "nuid": "765060f4-5f20-4cbb-ba8c-f15fe5deda7e",
          "showTitle": false,
          "tableResultSettingsMap": {},
          "title": ""
        },
        "id": "6LoVLiKKivX4"
      },
      "outputs": [],
      "source": [
        "df = spark.read.format('csv')\\\n",
        "            .schema(my_ddl_schema)\\\n",
        "            .option('header',True)\\\n",
        "            .load('/FileStore/tables/BigMart_Sales.csv')"
      ]
    },
    {
      "cell_type": "code",
      "execution_count": null,
      "metadata": {
        "application/vnd.databricks.v1+cell": {
          "cellMetadata": {
            "byteLimit": 2048000,
            "rowLimit": 10000
          },
          "inputWidgets": {},
          "nuid": "8d975a04-d221-4a32-b041-1670c9eaa927",
          "showTitle": false,
          "tableResultSettingsMap": {},
          "title": ""
        },
        "id": "hpEyDq1yivX6"
      },
      "outputs": [],
      "source": [
        "df.display()"
      ]
    },
    {
      "cell_type": "code",
      "execution_count": null,
      "metadata": {
        "application/vnd.databricks.v1+cell": {
          "cellMetadata": {
            "byteLimit": 2048000,
            "rowLimit": 10000
          },
          "inputWidgets": {},
          "nuid": "8a66e612-89cd-4d56-9924-68dc6532d591",
          "showTitle": false,
          "tableResultSettingsMap": {},
          "title": ""
        },
        "id": "TXvhkzgbivX7"
      },
      "outputs": [],
      "source": [
        "df.printSchema()"
      ]
    },
    {
      "cell_type": "markdown",
      "metadata": {
        "application/vnd.databricks.v1+cell": {
          "cellMetadata": {
            "byteLimit": 2048000,
            "rowLimit": 10000
          },
          "inputWidgets": {},
          "nuid": "d5828c16-c05a-4303-95b3-505bb12c087a",
          "showTitle": false,
          "tableResultSettingsMap": {},
          "title": ""
        },
        "id": "CeXEwlDjivX7"
      },
      "source": [
        "### StructType() Schema"
      ]
    },
    {
      "cell_type": "code",
      "execution_count": null,
      "metadata": {
        "application/vnd.databricks.v1+cell": {
          "cellMetadata": {
            "byteLimit": 2048000,
            "rowLimit": 10000
          },
          "inputWidgets": {},
          "nuid": "f0a95127-80fc-4bf6-9e18-0d51a92d69d2",
          "showTitle": false,
          "tableResultSettingsMap": {},
          "title": ""
        },
        "id": "5waVOrBYivX8"
      },
      "outputs": [],
      "source": [
        "from pyspark.sql.types import *\n",
        "from pyspark.sql.functions import *"
      ]
    },
    {
      "cell_type": "markdown",
      "metadata": {
        "application/vnd.databricks.v1+cell": {
          "cellMetadata": {
            "byteLimit": 2048000,
            "rowLimit": 10000
          },
          "inputWidgets": {},
          "nuid": "892527a2-8754-4c4f-8175-d2b244ac391f",
          "showTitle": false,
          "tableResultSettingsMap": {},
          "title": ""
        },
        "id": "Z-cL50AnivX-"
      },
      "source": [
        "my_strct_schema = StructType([\n",
        "                                StructField('Item_Identifier',StringType(),True),\n",
        "                                StructField('Item_Weight',StringType(),True),\n",
        "                                StructField('Item_Fat_Content',StringType(),True),\n",
        "                                StructField('Item_Visibility',StringType(),True),\n",
        "                                StructField('Item_MRP',StringType(),True),\n",
        "                                StructField('Outlet_Identifier',StringType(),True),\n",
        "                                StructField('Outlet_Establishment_Year',StringType(),True),\n",
        "                                StructField('Outlet_Size',StringType(),True),\n",
        "                                StructField('Outlet_Location_Type',StringType(),True),\n",
        "                                StructField('Outlet_Type',StringType(),True),\n",
        "                                StructField('Item_Outlet_Sales',StringType(),True)\n",
        "\n",
        "])"
      ]
    },
    {
      "cell_type": "markdown",
      "metadata": {
        "application/vnd.databricks.v1+cell": {
          "cellMetadata": {
            "byteLimit": 2048000,
            "rowLimit": 10000
          },
          "inputWidgets": {},
          "nuid": "dd9bc7f9-7470-4e8f-9755-e0d67b3186a9",
          "showTitle": false,
          "tableResultSettingsMap": {},
          "title": ""
        },
        "id": "KLxJzyrSivX-"
      },
      "source": [
        "df = spark.read.format('csv')\\\n",
        "            .schema(my_strct_schema)\\\n",
        "            .option('header',True)\\\n",
        "            .load('/FileStore/tables/BigMart_Sales.csv')"
      ]
    },
    {
      "cell_type": "code",
      "execution_count": null,
      "metadata": {
        "application/vnd.databricks.v1+cell": {
          "cellMetadata": {
            "byteLimit": 2048000,
            "rowLimit": 10000
          },
          "inputWidgets": {},
          "nuid": "9c2eb6e0-7b4e-4a58-9324-076ec7ca7ff0",
          "showTitle": false,
          "tableResultSettingsMap": {},
          "title": ""
        },
        "id": "VUZr1_yfivX_"
      },
      "outputs": [],
      "source": [
        "df.printSchema()"
      ]
    },
    {
      "cell_type": "markdown",
      "metadata": {
        "application/vnd.databricks.v1+cell": {
          "cellMetadata": {
            "byteLimit": 2048000,
            "rowLimit": 10000
          },
          "inputWidgets": {},
          "nuid": "b5f5e1eb-e34e-49ca-afa7-d5478cec26b5",
          "showTitle": false,
          "tableResultSettingsMap": {},
          "title": ""
        },
        "id": "-v7p1HcUivYA"
      },
      "source": [
        "# TRANSFORMATIONS"
      ]
    },
    {
      "cell_type": "markdown",
      "metadata": {
        "application/vnd.databricks.v1+cell": {
          "cellMetadata": {
            "byteLimit": 2048000,
            "rowLimit": 10000
          },
          "inputWidgets": {},
          "nuid": "c27d0e41-a843-40e7-a158-c146ae368b7e",
          "showTitle": false,
          "tableResultSettingsMap": {},
          "title": ""
        },
        "id": "54D_AtufivYA"
      },
      "source": [
        "### SELECT"
      ]
    },
    {
      "cell_type": "code",
      "execution_count": null,
      "metadata": {
        "application/vnd.databricks.v1+cell": {
          "cellMetadata": {
            "byteLimit": 2048000,
            "rowLimit": 10000
          },
          "inputWidgets": {},
          "nuid": "4a6a53b8-12d2-4749-ba17-64b0e2208569",
          "showTitle": false,
          "tableResultSettingsMap": {},
          "title": ""
        },
        "id": "NjmM8lUHivYA"
      },
      "outputs": [],
      "source": [
        "df.display()"
      ]
    },
    {
      "cell_type": "code",
      "execution_count": null,
      "metadata": {
        "application/vnd.databricks.v1+cell": {
          "cellMetadata": {
            "byteLimit": 2048000,
            "rowLimit": 10000
          },
          "inputWidgets": {},
          "nuid": "726de1ce-3dcf-4a63-b140-55f19a38b8b2",
          "showTitle": false,
          "tableResultSettingsMap": {},
          "title": ""
        },
        "id": "y0musfrbivYB"
      },
      "outputs": [],
      "source": [
        "df.select(col('Item_Identifier'),col('Item_Weight'),col('Item_Fat_Content')).display()"
      ]
    },
    {
      "cell_type": "markdown",
      "metadata": {
        "application/vnd.databricks.v1+cell": {
          "cellMetadata": {
            "byteLimit": 2048000,
            "rowLimit": 10000
          },
          "inputWidgets": {},
          "nuid": "31e69e5c-51be-4607-b920-c7c386286d65",
          "showTitle": false,
          "tableResultSettingsMap": {},
          "title": ""
        },
        "id": "Rs2W9pNgivYB"
      },
      "source": [
        "### ALIAS"
      ]
    },
    {
      "cell_type": "code",
      "execution_count": null,
      "metadata": {
        "application/vnd.databricks.v1+cell": {
          "cellMetadata": {
            "byteLimit": 2048000,
            "rowLimit": 10000
          },
          "inputWidgets": {},
          "nuid": "e3448673-d6ee-4b71-a515-de3d0306b31f",
          "showTitle": false,
          "tableResultSettingsMap": {},
          "title": ""
        },
        "id": "X_f7Yg-AivYC"
      },
      "outputs": [],
      "source": [
        "df.select(col('Item_Identifier').alias('Item_ID')).display()"
      ]
    },
    {
      "cell_type": "code",
      "execution_count": null,
      "metadata": {
        "application/vnd.databricks.v1+cell": {
          "cellMetadata": {
            "byteLimit": 2048000,
            "rowLimit": 10000
          },
          "inputWidgets": {},
          "nuid": "9e7a695d-9abb-45e6-9a86-98e27505577c",
          "showTitle": false,
          "tableResultSettingsMap": {},
          "title": ""
        },
        "id": "ZiFKhNSiivYC"
      },
      "outputs": [],
      "source": [
        "df.display()"
      ]
    },
    {
      "cell_type": "markdown",
      "metadata": {
        "application/vnd.databricks.v1+cell": {
          "cellMetadata": {
            "byteLimit": 2048000,
            "rowLimit": 10000
          },
          "inputWidgets": {},
          "nuid": "f87b239f-0635-43ce-af64-b06d93738dd0",
          "showTitle": false,
          "tableResultSettingsMap": {},
          "title": ""
        },
        "id": "CMK73R_mivYD"
      },
      "source": [
        "### FILTER"
      ]
    },
    {
      "cell_type": "markdown",
      "metadata": {
        "application/vnd.databricks.v1+cell": {
          "cellMetadata": {
            "byteLimit": 2048000,
            "rowLimit": 10000
          },
          "inputWidgets": {},
          "nuid": "66536202-b3f2-4da6-a677-414dc96df62b",
          "showTitle": false,
          "tableResultSettingsMap": {},
          "title": ""
        },
        "id": "NL0evjFVivYD"
      },
      "source": [
        "#### Scenario - 1"
      ]
    },
    {
      "cell_type": "code",
      "execution_count": null,
      "metadata": {
        "application/vnd.databricks.v1+cell": {
          "cellMetadata": {
            "byteLimit": 2048000,
            "rowLimit": 10000
          },
          "inputWidgets": {},
          "nuid": "53257040-3d93-4bae-b92b-9d7de3e51e1f",
          "showTitle": false,
          "tableResultSettingsMap": {},
          "title": ""
        },
        "id": "MR7g7lCsivYE"
      },
      "outputs": [],
      "source": [
        "df.filter(col('Item_Fat_Content')=='Regular').display()"
      ]
    },
    {
      "cell_type": "markdown",
      "metadata": {
        "application/vnd.databricks.v1+cell": {
          "cellMetadata": {
            "byteLimit": 2048000,
            "rowLimit": 10000
          },
          "inputWidgets": {},
          "nuid": "aacd750c-0155-4128-b8d2-e3f35a7c1ba5",
          "showTitle": false,
          "tableResultSettingsMap": {},
          "title": ""
        },
        "id": "4R-YgxdAivYE"
      },
      "source": [
        "#### Scenario - 2"
      ]
    },
    {
      "cell_type": "code",
      "execution_count": null,
      "metadata": {
        "application/vnd.databricks.v1+cell": {
          "cellMetadata": {
            "byteLimit": 2048000,
            "rowLimit": 10000
          },
          "inputWidgets": {},
          "nuid": "c78a7bfd-f563-472a-a606-e275fc57d9df",
          "showTitle": false,
          "tableResultSettingsMap": {},
          "title": ""
        },
        "id": "SN4G24bVivYF"
      },
      "outputs": [],
      "source": [
        "df.filter((col('Item_Type') == 'Soft Drinks') & (col('Item_Weight')<10)).display()"
      ]
    },
    {
      "cell_type": "markdown",
      "metadata": {
        "application/vnd.databricks.v1+cell": {
          "cellMetadata": {
            "byteLimit": 2048000,
            "rowLimit": 10000
          },
          "inputWidgets": {},
          "nuid": "aaecc87f-cd90-4ec2-b18a-3790817a1287",
          "showTitle": false,
          "tableResultSettingsMap": {},
          "title": ""
        },
        "id": "3nd3DYmZivYF"
      },
      "source": [
        "#### Scenario - 3"
      ]
    },
    {
      "cell_type": "code",
      "execution_count": null,
      "metadata": {
        "application/vnd.databricks.v1+cell": {
          "cellMetadata": {
            "byteLimit": 2048000,
            "rowLimit": 10000
          },
          "inputWidgets": {},
          "nuid": "26963e56-d293-4d8e-8c07-ee521ee014e0",
          "showTitle": false,
          "tableResultSettingsMap": {},
          "title": ""
        },
        "id": "XCOQKx4IivYG"
      },
      "outputs": [],
      "source": [
        "df.filter((col('Outlet_Size').isNull()) & (col('Outlet_Location_Type').isin('Tier 1','Tier 2'))).display()"
      ]
    },
    {
      "cell_type": "markdown",
      "metadata": {
        "application/vnd.databricks.v1+cell": {
          "cellMetadata": {
            "byteLimit": 2048000,
            "rowLimit": 10000
          },
          "inputWidgets": {},
          "nuid": "9e494827-9817-4642-b60f-5a3f431c97eb",
          "showTitle": false,
          "tableResultSettingsMap": {},
          "title": ""
        },
        "id": "HQzA6NMNivYG"
      },
      "source": [
        "### withColumnRenamed"
      ]
    },
    {
      "cell_type": "code",
      "execution_count": null,
      "metadata": {
        "application/vnd.databricks.v1+cell": {
          "cellMetadata": {
            "byteLimit": 2048000,
            "rowLimit": 10000
          },
          "inputWidgets": {},
          "nuid": "cab8458e-692f-426e-b12f-195150d2fa9b",
          "showTitle": false,
          "tableResultSettingsMap": {},
          "title": ""
        },
        "id": "nkBpNcbxivYH"
      },
      "outputs": [],
      "source": [
        "df.withColumnRenamed('Item_Weight','Item_Wt').display()"
      ]
    },
    {
      "cell_type": "markdown",
      "metadata": {
        "application/vnd.databricks.v1+cell": {
          "cellMetadata": {
            "byteLimit": 2048000,
            "rowLimit": 10000
          },
          "inputWidgets": {},
          "nuid": "85f8b5e2-37cb-4053-a17c-e39ec2a49c8d",
          "showTitle": false,
          "tableResultSettingsMap": {},
          "title": ""
        },
        "id": "jIix8vPhivYH"
      },
      "source": [
        "### withColumn"
      ]
    },
    {
      "cell_type": "markdown",
      "metadata": {
        "application/vnd.databricks.v1+cell": {
          "cellMetadata": {
            "byteLimit": 2048000,
            "rowLimit": 10000
          },
          "inputWidgets": {},
          "nuid": "bd9289cd-4125-414e-a3ff-27eccdfb6794",
          "showTitle": false,
          "tableResultSettingsMap": {},
          "title": ""
        },
        "id": "KLC9BWhSivYI"
      },
      "source": [
        "#### Scenario - 1"
      ]
    },
    {
      "cell_type": "code",
      "execution_count": null,
      "metadata": {
        "application/vnd.databricks.v1+cell": {
          "cellMetadata": {
            "byteLimit": 2048000,
            "rowLimit": 10000
          },
          "inputWidgets": {},
          "nuid": "07cd1da8-1c1b-4d8c-940a-29c37d7c59e6",
          "showTitle": false,
          "tableResultSettingsMap": {},
          "title": ""
        },
        "id": "-ZQqiWr6ivYI"
      },
      "outputs": [],
      "source": [
        "df = df.withColumn('flag',lit(\"new\"))"
      ]
    },
    {
      "cell_type": "code",
      "execution_count": 2,
      "metadata": {
        "application/vnd.databricks.v1+cell": {
          "cellMetadata": {
            "byteLimit": 2048000,
            "rowLimit": 10000
          },
          "inputWidgets": {},
          "nuid": "e26cfc4a-9bc3-4bab-b4e9-89a0a29240ec",
          "showTitle": false,
          "tableResultSettingsMap": {},
          "title": ""
        },
        "colab": {
          "base_uri": "https://localhost:8080/",
          "height": 141
        },
        "id": "J2GXe-7HivY6",
        "outputId": "b1ea27d4-f78e-4adf-876a-3eadb6a0712b"
      },
      "outputs": [
        {
          "output_type": "error",
          "ename": "NameError",
          "evalue": "name 'df' is not defined",
          "traceback": [
            "\u001b[0;31m---------------------------------------------------------------------------\u001b[0m",
            "\u001b[0;31mNameError\u001b[0m                                 Traceback (most recent call last)",
            "\u001b[0;32m<ipython-input-2-2e6c43cfdc72>\u001b[0m in \u001b[0;36m<cell line: 0>\u001b[0;34m()\u001b[0m\n\u001b[0;32m----> 1\u001b[0;31m \u001b[0mdf\u001b[0m\u001b[0;34m.\u001b[0m\u001b[0mdisplay\u001b[0m\u001b[0;34m(\u001b[0m\u001b[0;34m)\u001b[0m\u001b[0;34m\u001b[0m\u001b[0;34m\u001b[0m\u001b[0m\n\u001b[0m",
            "\u001b[0;31mNameError\u001b[0m: name 'df' is not defined"
          ]
        }
      ],
      "source": [
        "df.display()"
      ]
    },
    {
      "cell_type": "code",
      "execution_count": null,
      "metadata": {
        "application/vnd.databricks.v1+cell": {
          "cellMetadata": {
            "byteLimit": 2048000,
            "rowLimit": 10000
          },
          "inputWidgets": {},
          "nuid": "90500bfa-06e2-4051-9cea-e1eb3e042fac",
          "showTitle": false,
          "tableResultSettingsMap": {},
          "title": ""
        },
        "id": "uRpoPa91ivY7"
      },
      "outputs": [],
      "source": [
        "df.withColumn('multiply',col('Item_Weight')*col('Item_MRP')).display()"
      ]
    },
    {
      "cell_type": "markdown",
      "metadata": {
        "application/vnd.databricks.v1+cell": {
          "cellMetadata": {
            "byteLimit": 2048000,
            "rowLimit": 10000
          },
          "inputWidgets": {},
          "nuid": "994a6580-9a71-4ca0-b3e9-9608a341553e",
          "showTitle": false,
          "tableResultSettingsMap": {},
          "title": ""
        },
        "id": "y9rgN_RzivY8"
      },
      "source": [
        "#### Scenario - 2"
      ]
    },
    {
      "cell_type": "code",
      "execution_count": 3,
      "metadata": {
        "application/vnd.databricks.v1+cell": {
          "cellMetadata": {
            "byteLimit": 2048000,
            "rowLimit": 10000
          },
          "inputWidgets": {},
          "nuid": "1bfce241-9b5e-4e95-aee9-ca872a032cf7",
          "showTitle": false,
          "tableResultSettingsMap": {},
          "title": ""
        },
        "colab": {
          "base_uri": "https://localhost:8080/",
          "height": 193
        },
        "id": "1Vcmr9bGivY9",
        "outputId": "69779609-2031-4e2d-ace1-56275b81ee98"
      },
      "outputs": [
        {
          "output_type": "error",
          "ename": "NameError",
          "evalue": "name 'df' is not defined",
          "traceback": [
            "\u001b[0;31m---------------------------------------------------------------------------\u001b[0m",
            "\u001b[0;31mNameError\u001b[0m                                 Traceback (most recent call last)",
            "\u001b[0;32m<ipython-input-3-96ecaf7bd5d0>\u001b[0m in \u001b[0;36m<cell line: 0>\u001b[0;34m()\u001b[0m\n\u001b[0;32m----> 1\u001b[0;31m \u001b[0mdf\u001b[0m \u001b[0;34m=\u001b[0m \u001b[0mdf\u001b[0m\u001b[0;34m.\u001b[0m\u001b[0mwithColumn\u001b[0m\u001b[0;34m(\u001b[0m\u001b[0;34m'Item_Fat_Content'\u001b[0m\u001b[0;34m,\u001b[0m\u001b[0mregexp_replace\u001b[0m\u001b[0;34m(\u001b[0m\u001b[0mcol\u001b[0m\u001b[0;34m(\u001b[0m\u001b[0;34m'Item_Fat_Content'\u001b[0m\u001b[0;34m)\u001b[0m\u001b[0;34m,\u001b[0m\u001b[0;34m\"Regular\"\u001b[0m\u001b[0;34m,\u001b[0m\u001b[0;34m\"Reg\"\u001b[0m\u001b[0;34m)\u001b[0m\u001b[0;34m)\u001b[0m\u001b[0;31m\\\u001b[0m\u001b[0;34m\u001b[0m\u001b[0;34m\u001b[0m\u001b[0m\n\u001b[0m\u001b[1;32m      2\u001b[0m     \u001b[0;34m.\u001b[0m\u001b[0mwithColumn\u001b[0m\u001b[0;34m(\u001b[0m\u001b[0;34m'Item_Fat_Content'\u001b[0m\u001b[0;34m,\u001b[0m\u001b[0mregexp_replace\u001b[0m\u001b[0;34m(\u001b[0m\u001b[0mcol\u001b[0m\u001b[0;34m(\u001b[0m\u001b[0;34m'Item_Fat_Content'\u001b[0m\u001b[0;34m)\u001b[0m\u001b[0;34m,\u001b[0m\u001b[0;34m\"Low Fat\"\u001b[0m\u001b[0;34m,\u001b[0m\u001b[0;34m\"Lf\"\u001b[0m\u001b[0;34m)\u001b[0m\u001b[0;34m)\u001b[0m\u001b[0;34m\u001b[0m\u001b[0;34m\u001b[0m\u001b[0m\n\u001b[1;32m      3\u001b[0m \u001b[0;34m\u001b[0m\u001b[0m\n\u001b[1;32m      4\u001b[0m \u001b[0mdf\u001b[0m\u001b[0;34m.\u001b[0m\u001b[0mdisplay\u001b[0m\u001b[0;34m(\u001b[0m\u001b[0;34m)\u001b[0m\u001b[0;34m\u001b[0m\u001b[0;34m\u001b[0m\u001b[0m\n",
            "\u001b[0;31mNameError\u001b[0m: name 'df' is not defined"
          ]
        }
      ],
      "source": [
        "df = df.withColumn('Item_Fat_Content',regexp_replace(col('Item_Fat_Content'),\"Regular\",\"Reg\"))\\\n",
        "    .withColumn('Item_Fat_Content',regexp_replace(col('Item_Fat_Content'),\"Low Fat\",\"Lf\"))\n",
        "\n",
        "df.display()"
      ]
    },
    {
      "cell_type": "markdown",
      "metadata": {
        "application/vnd.databricks.v1+cell": {
          "cellMetadata": {
            "byteLimit": 2048000,
            "rowLimit": 10000
          },
          "inputWidgets": {},
          "nuid": "1dbca9de-47bd-414c-a22a-7d6de384353f",
          "showTitle": false,
          "tableResultSettingsMap": {},
          "title": ""
        },
        "id": "0aSnzMvqivY-"
      },
      "source": [
        "### Type Casting"
      ]
    },
    {
      "cell_type": "code",
      "execution_count": null,
      "metadata": {
        "application/vnd.databricks.v1+cell": {
          "cellMetadata": {
            "byteLimit": 2048000,
            "rowLimit": 10000
          },
          "inputWidgets": {},
          "nuid": "3ca74df5-ae2a-477d-b77c-ae110f72ed5c",
          "showTitle": false,
          "tableResultSettingsMap": {},
          "title": ""
        },
        "id": "f3ePVrfyivY-"
      },
      "outputs": [],
      "source": [
        "df = df.withColumn('Item_Weight', col('Item_Weight').cast(StringType()))"
      ]
    },
    {
      "cell_type": "code",
      "execution_count": null,
      "metadata": {
        "application/vnd.databricks.v1+cell": {
          "cellMetadata": {
            "byteLimit": 2048000,
            "rowLimit": 10000
          },
          "inputWidgets": {},
          "nuid": "e53a13b6-71ae-4ae6-9bfd-a2e95839c2f0",
          "showTitle": false,
          "tableResultSettingsMap": {},
          "title": ""
        },
        "id": "1OkZfJr0ivY_"
      },
      "outputs": [],
      "source": [
        "df.printSchema()"
      ]
    },
    {
      "cell_type": "markdown",
      "metadata": {
        "application/vnd.databricks.v1+cell": {
          "cellMetadata": {
            "byteLimit": 2048000,
            "rowLimit": 10000
          },
          "inputWidgets": {},
          "nuid": "f9d0d370-59dd-4495-a2c1-0c69099427e0",
          "showTitle": false,
          "tableResultSettingsMap": {},
          "title": ""
        },
        "id": "XoBY4qlsivZB"
      },
      "source": [
        "### sort"
      ]
    },
    {
      "cell_type": "markdown",
      "metadata": {
        "application/vnd.databricks.v1+cell": {
          "cellMetadata": {
            "byteLimit": 2048000,
            "rowLimit": 10000
          },
          "inputWidgets": {},
          "nuid": "1545a924-982b-4187-9870-410093a92f85",
          "showTitle": false,
          "tableResultSettingsMap": {},
          "title": ""
        },
        "id": "sFUJmp4_ivZC"
      },
      "source": [
        "#### Scenario - 1"
      ]
    },
    {
      "cell_type": "code",
      "execution_count": null,
      "metadata": {
        "application/vnd.databricks.v1+cell": {
          "cellMetadata": {
            "byteLimit": 2048000,
            "rowLimit": 10000
          },
          "inputWidgets": {},
          "nuid": "132fec71-7a66-48a9-ba66-71a590b62eeb",
          "showTitle": false,
          "tableResultSettingsMap": {},
          "title": ""
        },
        "id": "57ZVhTU2ivZD"
      },
      "outputs": [],
      "source": [
        "df.sort(col('Item_Weight').desc()).display()"
      ]
    },
    {
      "cell_type": "markdown",
      "metadata": {
        "application/vnd.databricks.v1+cell": {
          "cellMetadata": {
            "byteLimit": 2048000,
            "rowLimit": 10000
          },
          "inputWidgets": {},
          "nuid": "45575ace-fbc9-463d-bf93-b203c01f483f",
          "showTitle": false,
          "tableResultSettingsMap": {},
          "title": ""
        },
        "id": "AzVaant3ivZE"
      },
      "source": [
        "#### Scenario - 2"
      ]
    },
    {
      "cell_type": "code",
      "execution_count": null,
      "metadata": {
        "application/vnd.databricks.v1+cell": {
          "cellMetadata": {
            "byteLimit": 2048000,
            "rowLimit": 10000
          },
          "inputWidgets": {},
          "nuid": "48d389d7-735e-4b68-9112-79b1e64e551e",
          "showTitle": false,
          "tableResultSettingsMap": {},
          "title": ""
        },
        "id": "_Du-QZyJivZF"
      },
      "outputs": [],
      "source": [
        "df.sort(col('Item_Visibility').asc()).display()"
      ]
    },
    {
      "cell_type": "markdown",
      "metadata": {
        "application/vnd.databricks.v1+cell": {
          "cellMetadata": {
            "byteLimit": 2048000,
            "rowLimit": 10000
          },
          "inputWidgets": {},
          "nuid": "cbf5a0ea-662f-464c-9ee1-cf9bf6d44d83",
          "showTitle": false,
          "tableResultSettingsMap": {},
          "title": ""
        },
        "id": "jiDvGJqNivZG"
      },
      "source": [
        "#### Scenario - 3"
      ]
    },
    {
      "cell_type": "code",
      "execution_count": null,
      "metadata": {
        "application/vnd.databricks.v1+cell": {
          "cellMetadata": {
            "byteLimit": 2048000,
            "rowLimit": 10000
          },
          "inputWidgets": {},
          "nuid": "68830776-8d0b-45bb-a5f6-a927a1ae6483",
          "showTitle": false,
          "tableResultSettingsMap": {},
          "title": ""
        },
        "id": "GETIyJ_4ivZH"
      },
      "outputs": [],
      "source": [
        "df.sort(['Item_Weight','Item_Visibility'],ascending = [0,0]).display()"
      ]
    },
    {
      "cell_type": "markdown",
      "metadata": {
        "application/vnd.databricks.v1+cell": {
          "cellMetadata": {
            "byteLimit": 2048000,
            "rowLimit": 10000
          },
          "inputWidgets": {},
          "nuid": "63693482-25c9-4092-9923-81390917c487",
          "showTitle": false,
          "tableResultSettingsMap": {},
          "title": ""
        },
        "id": "HoH1VSqCivZH"
      },
      "source": [
        "#### Scenario - 4"
      ]
    },
    {
      "cell_type": "code",
      "execution_count": null,
      "metadata": {
        "application/vnd.databricks.v1+cell": {
          "cellMetadata": {
            "byteLimit": 2048000,
            "rowLimit": 10000
          },
          "inputWidgets": {},
          "nuid": "68d3a2ac-90fe-4709-85f8-ec1b75515f64",
          "showTitle": false,
          "tableResultSettingsMap": {},
          "title": ""
        },
        "id": "i5u66bhwivZI"
      },
      "outputs": [],
      "source": [
        "df.sort(['Item_weight','Item_Visibility'], ascending = [0,1]).display()"
      ]
    },
    {
      "cell_type": "markdown",
      "metadata": {
        "application/vnd.databricks.v1+cell": {
          "cellMetadata": {
            "byteLimit": 2048000,
            "rowLimit": 10000
          },
          "inputWidgets": {},
          "nuid": "7ea3b1be-2e07-4894-b4b4-e13430ee75fd",
          "showTitle": false,
          "tableResultSettingsMap": {},
          "title": ""
        },
        "id": "beQuggTgivZJ"
      },
      "source": [
        "### Limit"
      ]
    },
    {
      "cell_type": "code",
      "execution_count": null,
      "metadata": {
        "application/vnd.databricks.v1+cell": {
          "cellMetadata": {
            "byteLimit": 2048000,
            "rowLimit": 10000
          },
          "inputWidgets": {},
          "nuid": "ce650a06-8dad-4400-b48a-7dbd4be226c1",
          "showTitle": false,
          "tableResultSettingsMap": {},
          "title": ""
        },
        "id": "SSBtb_0HivZJ"
      },
      "outputs": [],
      "source": [
        "df.limit(10).display()"
      ]
    },
    {
      "cell_type": "markdown",
      "metadata": {
        "application/vnd.databricks.v1+cell": {
          "cellMetadata": {
            "byteLimit": 2048000,
            "rowLimit": 10000
          },
          "inputWidgets": {},
          "nuid": "4162483d-d989-4326-bf90-6a5d067e8591",
          "showTitle": false,
          "tableResultSettingsMap": {},
          "title": ""
        },
        "id": "BMhEpLi3ivZK"
      },
      "source": [
        "### DROP"
      ]
    },
    {
      "cell_type": "markdown",
      "metadata": {
        "application/vnd.databricks.v1+cell": {
          "cellMetadata": {
            "byteLimit": 2048000,
            "rowLimit": 10000
          },
          "inputWidgets": {},
          "nuid": "3e87df34-3c79-4a9a-bbc8-8ec2eedd2c97",
          "showTitle": false,
          "tableResultSettingsMap": {},
          "title": ""
        },
        "id": "9OmxWEVVivZK"
      },
      "source": [
        "#### Scenario-1"
      ]
    },
    {
      "cell_type": "code",
      "execution_count": 4,
      "metadata": {
        "application/vnd.databricks.v1+cell": {
          "cellMetadata": {
            "byteLimit": 2048000,
            "rowLimit": 10000
          },
          "inputWidgets": {},
          "nuid": "7f60e5da-530d-46b3-b7a9-ac634ad20fe4",
          "showTitle": false,
          "tableResultSettingsMap": {},
          "title": ""
        },
        "colab": {
          "base_uri": "https://localhost:8080/",
          "height": 141
        },
        "id": "8x6gzQ-RivZL",
        "outputId": "4d4f2f06-e91d-49cd-f904-c5ff7b846e2d"
      },
      "outputs": [
        {
          "output_type": "error",
          "ename": "NameError",
          "evalue": "name 'df' is not defined",
          "traceback": [
            "\u001b[0;31m---------------------------------------------------------------------------\u001b[0m",
            "\u001b[0;31mNameError\u001b[0m                                 Traceback (most recent call last)",
            "\u001b[0;32m<ipython-input-4-514cc162b803>\u001b[0m in \u001b[0;36m<cell line: 0>\u001b[0;34m()\u001b[0m\n\u001b[0;32m----> 1\u001b[0;31m \u001b[0mdf\u001b[0m\u001b[0;34m.\u001b[0m\u001b[0mdrop\u001b[0m\u001b[0;34m(\u001b[0m\u001b[0;34m'Item_Visibility'\u001b[0m\u001b[0;34m)\u001b[0m\u001b[0;34m.\u001b[0m\u001b[0mdisplay\u001b[0m\u001b[0;34m(\u001b[0m\u001b[0;34m)\u001b[0m\u001b[0;34m\u001b[0m\u001b[0;34m\u001b[0m\u001b[0m\n\u001b[0m",
            "\u001b[0;31mNameError\u001b[0m: name 'df' is not defined"
          ]
        }
      ],
      "source": [
        "df.drop('Item_Visibility').display()"
      ]
    },
    {
      "cell_type": "markdown",
      "metadata": {
        "application/vnd.databricks.v1+cell": {
          "cellMetadata": {
            "byteLimit": 2048000,
            "rowLimit": 10000
          },
          "inputWidgets": {},
          "nuid": "13e55280-bc17-4979-8255-d909783b5fb0",
          "showTitle": false,
          "tableResultSettingsMap": {},
          "title": ""
        },
        "id": "woz2S8-sivZM"
      },
      "source": [
        "#### Scenario-2"
      ]
    },
    {
      "cell_type": "code",
      "execution_count": null,
      "metadata": {
        "application/vnd.databricks.v1+cell": {
          "cellMetadata": {
            "byteLimit": 2048000,
            "rowLimit": 10000
          },
          "inputWidgets": {},
          "nuid": "4938995d-4dda-4e3a-babe-2a7543235f3f",
          "showTitle": false,
          "tableResultSettingsMap": {},
          "title": ""
        },
        "id": "IgEf5QwbivZM"
      },
      "outputs": [],
      "source": [
        "df.drop('Item_Visibility','Item_Type').display()"
      ]
    },
    {
      "cell_type": "markdown",
      "metadata": {
        "application/vnd.databricks.v1+cell": {
          "cellMetadata": {
            "byteLimit": 2048000,
            "rowLimit": 10000
          },
          "inputWidgets": {},
          "nuid": "02bad40a-1be1-44a3-9a35-f514a16e37e3",
          "showTitle": false,
          "tableResultSettingsMap": {},
          "title": ""
        },
        "id": "254UN4T5ivZN"
      },
      "source": [
        "### DRop_Duplicates"
      ]
    },
    {
      "cell_type": "code",
      "execution_count": null,
      "metadata": {
        "application/vnd.databricks.v1+cell": {
          "cellMetadata": {
            "byteLimit": 2048000,
            "rowLimit": 10000
          },
          "inputWidgets": {},
          "nuid": "3328d88c-1468-4554-91a7-87386f4a17fe",
          "showTitle": false,
          "tableResultSettingsMap": {},
          "title": ""
        },
        "id": "davcyyN1ivZN"
      },
      "outputs": [],
      "source": [
        "df.dropDuplicates().display()"
      ]
    },
    {
      "cell_type": "markdown",
      "metadata": {
        "application/vnd.databricks.v1+cell": {
          "cellMetadata": {
            "byteLimit": 2048000,
            "rowLimit": 10000
          },
          "inputWidgets": {},
          "nuid": "9bc15e10-86fc-4411-bbc9-154d27d653a7",
          "showTitle": false,
          "tableResultSettingsMap": {},
          "title": ""
        },
        "id": "C2qHzfvkivZO"
      },
      "source": [
        "#### Scenario - 2"
      ]
    },
    {
      "cell_type": "code",
      "execution_count": null,
      "metadata": {
        "application/vnd.databricks.v1+cell": {
          "cellMetadata": {
            "byteLimit": 2048000,
            "rowLimit": 10000
          },
          "inputWidgets": {},
          "nuid": "75ebaf3f-2f94-4b46-bd25-1264eea5dee6",
          "showTitle": false,
          "tableResultSettingsMap": {},
          "title": ""
        },
        "id": "7T20P1f8ivZP"
      },
      "outputs": [],
      "source": [
        "df.drop_duplicates(subset=['Item_Type']).display()"
      ]
    },
    {
      "cell_type": "code",
      "execution_count": null,
      "metadata": {
        "application/vnd.databricks.v1+cell": {
          "cellMetadata": {
            "byteLimit": 2048000,
            "rowLimit": 10000
          },
          "inputWidgets": {},
          "nuid": "c485960d-1f24-49d3-a2dd-9b73e2c97604",
          "showTitle": false,
          "tableResultSettingsMap": {},
          "title": ""
        },
        "id": "wA_i8YwQivZP"
      },
      "outputs": [],
      "source": [
        "df.distinct().display()"
      ]
    },
    {
      "cell_type": "markdown",
      "metadata": {
        "application/vnd.databricks.v1+cell": {
          "cellMetadata": {
            "byteLimit": 2048000,
            "rowLimit": 10000
          },
          "inputWidgets": {},
          "nuid": "18b5b3e0-9858-4e93-8130-c5655d51884b",
          "showTitle": false,
          "tableResultSettingsMap": {},
          "title": ""
        },
        "id": "B9t7AgJUivZQ"
      },
      "source": [
        "### UNION and UNION BY NAME"
      ]
    },
    {
      "cell_type": "markdown",
      "metadata": {
        "application/vnd.databricks.v1+cell": {
          "cellMetadata": {
            "byteLimit": 2048000,
            "rowLimit": 10000
          },
          "inputWidgets": {},
          "nuid": "0fd10f45-9c01-4647-9543-57754cf276e9",
          "showTitle": false,
          "tableResultSettingsMap": {},
          "title": ""
        },
        "id": "7lj6pAkMivZR"
      },
      "source": [
        "####Preaparing Dataframes"
      ]
    },
    {
      "cell_type": "code",
      "execution_count": null,
      "metadata": {
        "application/vnd.databricks.v1+cell": {
          "cellMetadata": {
            "byteLimit": 2048000,
            "rowLimit": 10000
          },
          "inputWidgets": {},
          "nuid": "333fbe4b-74a6-4d0f-b67e-d8eef50c8929",
          "showTitle": false,
          "tableResultSettingsMap": {},
          "title": ""
        },
        "id": "GbF_6fSbivZS"
      },
      "outputs": [],
      "source": [
        "data1 = [('1','kad'),\n",
        "        ('2','sid')]\n",
        "schema1 = 'id STRING, name STRING'\n",
        "\n",
        "df1 = spark.createDataFrame(data1,schema1)\n",
        "\n",
        "data2 = [('3','rahul'),\n",
        "        ('4','jas')]\n",
        "schema2 = 'id STRING, name STRING'\n",
        "\n",
        "df2 = spark.createDataFrame(data2,schema2)\n",
        "\n"
      ]
    },
    {
      "cell_type": "code",
      "execution_count": null,
      "metadata": {
        "application/vnd.databricks.v1+cell": {
          "cellMetadata": {
            "byteLimit": 2048000,
            "rowLimit": 10000
          },
          "inputWidgets": {},
          "nuid": "5ea94336-47ed-47d6-9c60-a24b157dfa7d",
          "showTitle": false,
          "tableResultSettingsMap": {},
          "title": ""
        },
        "id": "mE4VrIKnivZT"
      },
      "outputs": [],
      "source": [
        "df1.display()"
      ]
    },
    {
      "cell_type": "code",
      "execution_count": null,
      "metadata": {
        "application/vnd.databricks.v1+cell": {
          "cellMetadata": {
            "byteLimit": 2048000,
            "rowLimit": 10000
          },
          "inputWidgets": {},
          "nuid": "0ca1c85b-9459-4ea6-98da-1edf03e05417",
          "showTitle": false,
          "tableResultSettingsMap": {},
          "title": ""
        },
        "id": "33WKoJ88ivZU"
      },
      "outputs": [],
      "source": [
        "df2.display()"
      ]
    },
    {
      "cell_type": "markdown",
      "metadata": {
        "application/vnd.databricks.v1+cell": {
          "cellMetadata": {
            "byteLimit": 2048000,
            "rowLimit": 10000
          },
          "inputWidgets": {},
          "nuid": "d653cbd7-452e-46c4-96a5-a8295cdd9b8b",
          "showTitle": false,
          "tableResultSettingsMap": {},
          "title": ""
        },
        "id": "psST_a9divZV"
      },
      "source": [
        "### Union"
      ]
    },
    {
      "cell_type": "code",
      "execution_count": null,
      "metadata": {
        "application/vnd.databricks.v1+cell": {
          "cellMetadata": {
            "byteLimit": 2048000,
            "rowLimit": 10000
          },
          "inputWidgets": {},
          "nuid": "077d3dfc-f90e-42c3-8f8a-ea88d4a8a917",
          "showTitle": false,
          "tableResultSettingsMap": {},
          "title": ""
        },
        "id": "K3L4HcHYivZV"
      },
      "outputs": [],
      "source": [
        "df1.union(df2).display()"
      ]
    },
    {
      "cell_type": "code",
      "execution_count": null,
      "metadata": {
        "application/vnd.databricks.v1+cell": {
          "cellMetadata": {
            "byteLimit": 2048000,
            "rowLimit": 10000
          },
          "inputWidgets": {},
          "nuid": "08e2bcd8-2482-4d97-b827-8097a56f7f91",
          "showTitle": false,
          "tableResultSettingsMap": {},
          "title": ""
        },
        "id": "rmGcGb_hivZW"
      },
      "outputs": [],
      "source": [
        "data1 = [('kad','1',),\n",
        "        ('sid','2',)]\n",
        "schema1 = 'name STRING, id STRING'\n",
        "\n",
        "df1 = spark.createDataFrame(data1,schema1)\n",
        "\n",
        "df1.display()"
      ]
    },
    {
      "cell_type": "code",
      "execution_count": null,
      "metadata": {
        "application/vnd.databricks.v1+cell": {
          "cellMetadata": {
            "byteLimit": 2048000,
            "rowLimit": 10000
          },
          "inputWidgets": {},
          "nuid": "d55bb8ab-00d5-4fee-9136-5a87c91dbbc7",
          "showTitle": false,
          "tableResultSettingsMap": {},
          "title": ""
        },
        "id": "GP9OH26xivZW"
      },
      "outputs": [],
      "source": [
        "df1.union(df2).display()"
      ]
    },
    {
      "cell_type": "markdown",
      "metadata": {
        "application/vnd.databricks.v1+cell": {
          "cellMetadata": {
            "byteLimit": 2048000,
            "rowLimit": 10000
          },
          "inputWidgets": {},
          "nuid": "4e38f2de-b379-4a03-af13-75876348c2d3",
          "showTitle": false,
          "tableResultSettingsMap": {},
          "title": ""
        },
        "id": "loon_ADeivZX"
      },
      "source": [
        "### Union by Name"
      ]
    },
    {
      "cell_type": "code",
      "execution_count": null,
      "metadata": {
        "application/vnd.databricks.v1+cell": {
          "cellMetadata": {
            "byteLimit": 2048000,
            "rowLimit": 10000
          },
          "inputWidgets": {},
          "nuid": "52c69fa4-af9c-4c78-8f4f-3de85567d74a",
          "showTitle": false,
          "tableResultSettingsMap": {},
          "title": ""
        },
        "id": "dyj-mwCjivZY"
      },
      "outputs": [],
      "source": [
        "df1.unionByName(df2).display()"
      ]
    },
    {
      "cell_type": "markdown",
      "metadata": {
        "application/vnd.databricks.v1+cell": {
          "cellMetadata": {
            "byteLimit": 2048000,
            "rowLimit": 10000
          },
          "inputWidgets": {},
          "nuid": "cbf8457e-8673-4724-be02-c4aa11e94697",
          "showTitle": false,
          "tableResultSettingsMap": {},
          "title": ""
        },
        "id": "RG5FGr_EivZY"
      },
      "source": [
        "### String Functions"
      ]
    },
    {
      "cell_type": "markdown",
      "metadata": {
        "application/vnd.databricks.v1+cell": {
          "cellMetadata": {
            "byteLimit": 2048000,
            "rowLimit": 10000
          },
          "inputWidgets": {},
          "nuid": "a12bc03b-290e-4187-ba7d-8f2d2c2abb90",
          "showTitle": false,
          "tableResultSettingsMap": {},
          "title": ""
        },
        "id": "Ns2oR7FZivZZ"
      },
      "source": [
        "#### Initcap()"
      ]
    },
    {
      "cell_type": "code",
      "execution_count": null,
      "metadata": {
        "application/vnd.databricks.v1+cell": {
          "cellMetadata": {
            "byteLimit": 2048000,
            "rowLimit": 10000
          },
          "inputWidgets": {},
          "nuid": "e12e4f01-16f6-4bb6-a834-d76cae573931",
          "showTitle": false,
          "tableResultSettingsMap": {},
          "title": ""
        },
        "id": "mzJ-N4kyivZZ"
      },
      "outputs": [],
      "source": [
        "df.select(upper('Item_Type').alias('upper_Item_Type')).display()"
      ]
    },
    {
      "cell_type": "markdown",
      "metadata": {
        "application/vnd.databricks.v1+cell": {
          "cellMetadata": {
            "byteLimit": 2048000,
            "rowLimit": 10000
          },
          "inputWidgets": {},
          "nuid": "f385479a-7927-48c8-b8cf-823dee767f85",
          "showTitle": false,
          "tableResultSettingsMap": {},
          "title": ""
        },
        "id": "2kovnQk2ivZa"
      },
      "source": [
        "### Date Functions"
      ]
    },
    {
      "cell_type": "markdown",
      "metadata": {
        "application/vnd.databricks.v1+cell": {
          "cellMetadata": {
            "byteLimit": 2048000,
            "rowLimit": 10000
          },
          "inputWidgets": {},
          "nuid": "696e3267-f658-4d70-a1e0-6d2fbc3b1e65",
          "showTitle": false,
          "tableResultSettingsMap": {},
          "title": ""
        },
        "id": "uvYVU0m4ivZb"
      },
      "source": [
        "#### Current_Date"
      ]
    },
    {
      "cell_type": "code",
      "execution_count": null,
      "metadata": {
        "application/vnd.databricks.v1+cell": {
          "cellMetadata": {
            "byteLimit": 2048000,
            "rowLimit": 10000
          },
          "inputWidgets": {},
          "nuid": "8fac6861-b4e5-492a-a479-7aebf22d3527",
          "showTitle": false,
          "tableResultSettingsMap": {},
          "title": ""
        },
        "id": "3BLFgNfdivZb"
      },
      "outputs": [],
      "source": [
        "df = df.withColumn('curr_date',current_date())\n",
        "\n",
        "df.display()"
      ]
    },
    {
      "cell_type": "markdown",
      "metadata": {
        "application/vnd.databricks.v1+cell": {
          "cellMetadata": {
            "byteLimit": 2048000,
            "rowLimit": 10000
          },
          "inputWidgets": {},
          "nuid": "cbdcbf55-dc82-42c5-91f3-c1170acd4e00",
          "showTitle": false,
          "tableResultSettingsMap": {},
          "title": ""
        },
        "id": "TVoXyvnFivZc"
      },
      "source": [
        "#### Date_Add()"
      ]
    },
    {
      "cell_type": "code",
      "execution_count": null,
      "metadata": {
        "application/vnd.databricks.v1+cell": {
          "cellMetadata": {
            "byteLimit": 2048000,
            "rowLimit": 10000
          },
          "inputWidgets": {},
          "nuid": "6debe0ad-f48d-438d-8916-a48f44af4d08",
          "showTitle": false,
          "tableResultSettingsMap": {},
          "title": ""
        },
        "id": "OYFlGw-yivZd"
      },
      "outputs": [],
      "source": [
        "df = df.withColumn('week_after',date_add('curr_date',7))\n",
        "\n",
        "df.display()"
      ]
    },
    {
      "cell_type": "markdown",
      "metadata": {
        "application/vnd.databricks.v1+cell": {
          "cellMetadata": {
            "byteLimit": 2048000,
            "rowLimit": 10000
          },
          "inputWidgets": {},
          "nuid": "14ae9b13-079a-400a-b655-39bc5e5b13f2",
          "showTitle": false,
          "tableResultSettingsMap": {},
          "title": ""
        },
        "id": "Zr8MWd1VivZd"
      },
      "source": [
        "#### Date_Sub()"
      ]
    },
    {
      "cell_type": "code",
      "execution_count": null,
      "metadata": {
        "application/vnd.databricks.v1+cell": {
          "cellMetadata": {
            "byteLimit": 2048000,
            "rowLimit": 10000
          },
          "inputWidgets": {},
          "nuid": "a1f79e49-85e5-42a4-b6ad-302c0c6ae5a6",
          "showTitle": false,
          "tableResultSettingsMap": {},
          "title": ""
        },
        "id": "yr2DuMXpivZe"
      },
      "outputs": [],
      "source": [
        "df.withColumn('week_before',date_sub('curr_date',7)).display()"
      ]
    },
    {
      "cell_type": "code",
      "execution_count": null,
      "metadata": {
        "application/vnd.databricks.v1+cell": {
          "cellMetadata": {
            "byteLimit": 2048000,
            "rowLimit": 10000
          },
          "inputWidgets": {},
          "nuid": "f2ba356e-f8ff-4885-88bb-824298b7351d",
          "showTitle": false,
          "tableResultSettingsMap": {},
          "title": ""
        },
        "id": "A0q3weg1ivZe"
      },
      "outputs": [],
      "source": [
        "df = df.withColumn('week_before',date_add('curr_date',-7))\n",
        "\n",
        "df.display()"
      ]
    },
    {
      "cell_type": "markdown",
      "metadata": {
        "application/vnd.databricks.v1+cell": {
          "cellMetadata": {
            "byteLimit": 2048000,
            "rowLimit": 10000
          },
          "inputWidgets": {},
          "nuid": "ef33f0e3-7e8a-47a1-8daa-d1d6492ff66d",
          "showTitle": false,
          "tableResultSettingsMap": {},
          "title": ""
        },
        "id": "YQGKVtX9ivZf"
      },
      "source": [
        "### DateDIFF"
      ]
    },
    {
      "cell_type": "code",
      "execution_count": null,
      "metadata": {
        "application/vnd.databricks.v1+cell": {
          "cellMetadata": {
            "byteLimit": 2048000,
            "rowLimit": 10000
          },
          "inputWidgets": {},
          "nuid": "561899c5-a594-49b7-846b-ec5b73d398b7",
          "showTitle": false,
          "tableResultSettingsMap": {},
          "title": ""
        },
        "id": "a1d8Gx_4ivZg"
      },
      "outputs": [],
      "source": [
        "df = df.withColumn('datediff',datediff('week_after','curr_date'))\n",
        "\n",
        "df.display()"
      ]
    },
    {
      "cell_type": "markdown",
      "metadata": {
        "application/vnd.databricks.v1+cell": {
          "cellMetadata": {
            "byteLimit": 2048000,
            "rowLimit": 10000
          },
          "inputWidgets": {},
          "nuid": "116a02a6-cb70-431d-9603-2df73d86b39b",
          "showTitle": false,
          "tableResultSettingsMap": {},
          "title": ""
        },
        "id": "RpIbtoq0ivZh"
      },
      "source": [
        "### Date_Format()"
      ]
    },
    {
      "cell_type": "code",
      "execution_count": null,
      "metadata": {
        "application/vnd.databricks.v1+cell": {
          "cellMetadata": {
            "byteLimit": 2048000,
            "rowLimit": 10000
          },
          "inputWidgets": {},
          "nuid": "7b388cc4-8be3-4bf3-8d5e-37256c09d04f",
          "showTitle": false,
          "tableResultSettingsMap": {},
          "title": ""
        },
        "id": "-bZUZ0hlivZh"
      },
      "outputs": [],
      "source": [
        "df = df.withColumn('week_before',date_format('week_before','dd-MM-yyyy'))\n",
        "\n",
        "df.display()"
      ]
    }
  ],
  "metadata": {
    "application/vnd.databricks.v1+notebook": {
      "dashboards": [],
      "environmentMetadata": null,
      "language": "python",
      "notebookMetadata": {
        "mostRecentlyExecutedCommandWithImplicitDF": {
          "commandId": 57368309943301,
          "dataframes": [
            "_sqldf"
          ]
        },
        "pythonIndentUnit": 4
      },
      "notebookName": "1_Tutoral",
      "widgets": {}
    },
    "colab": {
      "provenance": []
    },
    "language_info": {
      "name": "python"
    },
    "kernelspec": {
      "name": "python3",
      "display_name": "Python 3"
    }
  },
  "nbformat": 4,
  "nbformat_minor": 0
}