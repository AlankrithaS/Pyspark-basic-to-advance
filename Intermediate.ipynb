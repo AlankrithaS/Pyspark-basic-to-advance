{
  "cells": [
    {
      "cell_type": "markdown",
      "source": [
        "**Intermediate commands**"
      ],
      "metadata": {
        "id": "m2ttMXL2l7IA"
      }
    },
    {
      "cell_type": "markdown",
      "metadata": {
        "application/vnd.databricks.v1+cell": {
          "cellMetadata": {
            "byteLimit": 2048000,
            "rowLimit": 10000
          },
          "inputWidgets": {},
          "nuid": "4162483d-d989-4326-bf90-6a5d067e8591",
          "showTitle": false,
          "tableResultSettingsMap": {},
          "title": ""
        },
        "id": "1x3YaUMclx7s"
      },
      "source": [
        "### DROP"
      ]
    },
    {
      "cell_type": "markdown",
      "metadata": {
        "application/vnd.databricks.v1+cell": {
          "cellMetadata": {
            "byteLimit": 2048000,
            "rowLimit": 10000
          },
          "inputWidgets": {},
          "nuid": "3e87df34-3c79-4a9a-bbc8-8ec2eedd2c97",
          "showTitle": false,
          "tableResultSettingsMap": {},
          "title": ""
        },
        "id": "EpHD3ghMlx7u"
      },
      "source": [
        "#### Scenario-1"
      ]
    },
    {
      "cell_type": "code",
      "execution_count": null,
      "metadata": {
        "application/vnd.databricks.v1+cell": {
          "cellMetadata": {
            "byteLimit": 2048000,
            "rowLimit": 10000
          },
          "inputWidgets": {},
          "nuid": "7f60e5da-530d-46b3-b7a9-ac634ad20fe4",
          "showTitle": false,
          "tableResultSettingsMap": {},
          "title": ""
        },
        "id": "7opSsfxrlx7v"
      },
      "outputs": [],
      "source": [
        "df.drop('Item_Visibility').display()"
      ]
    },
    {
      "cell_type": "markdown",
      "metadata": {
        "application/vnd.databricks.v1+cell": {
          "cellMetadata": {
            "byteLimit": 2048000,
            "rowLimit": 10000
          },
          "inputWidgets": {},
          "nuid": "13e55280-bc17-4979-8255-d909783b5fb0",
          "showTitle": false,
          "tableResultSettingsMap": {},
          "title": ""
        },
        "id": "L98b6d-hlx7w"
      },
      "source": [
        "#### Scenario-2"
      ]
    },
    {
      "cell_type": "code",
      "execution_count": null,
      "metadata": {
        "application/vnd.databricks.v1+cell": {
          "cellMetadata": {
            "byteLimit": 2048000,
            "rowLimit": 10000
          },
          "inputWidgets": {},
          "nuid": "4938995d-4dda-4e3a-babe-2a7543235f3f",
          "showTitle": false,
          "tableResultSettingsMap": {},
          "title": ""
        },
        "id": "SayAA4G2lx7w"
      },
      "outputs": [],
      "source": [
        "df.drop('Item_Visibility','Item_Type').display()"
      ]
    },
    {
      "cell_type": "markdown",
      "metadata": {
        "application/vnd.databricks.v1+cell": {
          "cellMetadata": {
            "byteLimit": 2048000,
            "rowLimit": 10000
          },
          "inputWidgets": {},
          "nuid": "02bad40a-1be1-44a3-9a35-f514a16e37e3",
          "showTitle": false,
          "tableResultSettingsMap": {},
          "title": ""
        },
        "id": "M4cTs8XIlx7x"
      },
      "source": [
        "### DRop_Duplicates"
      ]
    },
    {
      "cell_type": "code",
      "execution_count": null,
      "metadata": {
        "application/vnd.databricks.v1+cell": {
          "cellMetadata": {
            "byteLimit": 2048000,
            "rowLimit": 10000
          },
          "inputWidgets": {},
          "nuid": "3328d88c-1468-4554-91a7-87386f4a17fe",
          "showTitle": false,
          "tableResultSettingsMap": {},
          "title": ""
        },
        "id": "OPmZVvLRlx7x"
      },
      "outputs": [],
      "source": [
        "df.dropDuplicates().display()"
      ]
    },
    {
      "cell_type": "markdown",
      "metadata": {
        "application/vnd.databricks.v1+cell": {
          "cellMetadata": {
            "byteLimit": 2048000,
            "rowLimit": 10000
          },
          "inputWidgets": {},
          "nuid": "9bc15e10-86fc-4411-bbc9-154d27d653a7",
          "showTitle": false,
          "tableResultSettingsMap": {},
          "title": ""
        },
        "id": "_lkh6VQSlx7y"
      },
      "source": [
        "#### Scenario - 2"
      ]
    },
    {
      "cell_type": "code",
      "execution_count": null,
      "metadata": {
        "application/vnd.databricks.v1+cell": {
          "cellMetadata": {
            "byteLimit": 2048000,
            "rowLimit": 10000
          },
          "inputWidgets": {},
          "nuid": "75ebaf3f-2f94-4b46-bd25-1264eea5dee6",
          "showTitle": false,
          "tableResultSettingsMap": {},
          "title": ""
        },
        "id": "LXCBzw3Ylx7y"
      },
      "outputs": [],
      "source": [
        "df.drop_duplicates(subset=['Item_Type']).display()"
      ]
    },
    {
      "cell_type": "code",
      "execution_count": null,
      "metadata": {
        "application/vnd.databricks.v1+cell": {
          "cellMetadata": {
            "byteLimit": 2048000,
            "rowLimit": 10000
          },
          "inputWidgets": {},
          "nuid": "c485960d-1f24-49d3-a2dd-9b73e2c97604",
          "showTitle": false,
          "tableResultSettingsMap": {},
          "title": ""
        },
        "id": "QHHSB0tnlx7z"
      },
      "outputs": [],
      "source": [
        "df.distinct().display()"
      ]
    },
    {
      "cell_type": "markdown",
      "metadata": {
        "application/vnd.databricks.v1+cell": {
          "cellMetadata": {
            "byteLimit": 2048000,
            "rowLimit": 10000
          },
          "inputWidgets": {},
          "nuid": "18b5b3e0-9858-4e93-8130-c5655d51884b",
          "showTitle": false,
          "tableResultSettingsMap": {},
          "title": ""
        },
        "id": "cW506-17lx7z"
      },
      "source": [
        "### UNION and UNION BY NAME"
      ]
    },
    {
      "cell_type": "markdown",
      "metadata": {
        "application/vnd.databricks.v1+cell": {
          "cellMetadata": {
            "byteLimit": 2048000,
            "rowLimit": 10000
          },
          "inputWidgets": {},
          "nuid": "0fd10f45-9c01-4647-9543-57754cf276e9",
          "showTitle": false,
          "tableResultSettingsMap": {},
          "title": ""
        },
        "id": "cCeuh36Alx70"
      },
      "source": [
        "####Preaparing Dataframes"
      ]
    },
    {
      "cell_type": "code",
      "execution_count": null,
      "metadata": {
        "application/vnd.databricks.v1+cell": {
          "cellMetadata": {
            "byteLimit": 2048000,
            "rowLimit": 10000
          },
          "inputWidgets": {},
          "nuid": "333fbe4b-74a6-4d0f-b67e-d8eef50c8929",
          "showTitle": false,
          "tableResultSettingsMap": {},
          "title": ""
        },
        "id": "xevPnOZ0lx70"
      },
      "outputs": [],
      "source": [
        "data1 = [('1','kad'),\n",
        "        ('2','sid')]\n",
        "schema1 = 'id STRING, name STRING'\n",
        "\n",
        "df1 = spark.createDataFrame(data1,schema1)\n",
        "\n",
        "data2 = [('3','rahul'),\n",
        "        ('4','jas')]\n",
        "schema2 = 'id STRING, name STRING'\n",
        "\n",
        "df2 = spark.createDataFrame(data2,schema2)\n",
        "\n"
      ]
    },
    {
      "cell_type": "code",
      "execution_count": null,
      "metadata": {
        "application/vnd.databricks.v1+cell": {
          "cellMetadata": {
            "byteLimit": 2048000,
            "rowLimit": 10000
          },
          "inputWidgets": {},
          "nuid": "5ea94336-47ed-47d6-9c60-a24b157dfa7d",
          "showTitle": false,
          "tableResultSettingsMap": {},
          "title": ""
        },
        "id": "MZf4BaCZlx71"
      },
      "outputs": [],
      "source": [
        "df1.display()"
      ]
    },
    {
      "cell_type": "code",
      "execution_count": null,
      "metadata": {
        "application/vnd.databricks.v1+cell": {
          "cellMetadata": {
            "byteLimit": 2048000,
            "rowLimit": 10000
          },
          "inputWidgets": {},
          "nuid": "0ca1c85b-9459-4ea6-98da-1edf03e05417",
          "showTitle": false,
          "tableResultSettingsMap": {},
          "title": ""
        },
        "id": "jodDc8jFlx71"
      },
      "outputs": [],
      "source": [
        "df2.display()"
      ]
    },
    {
      "cell_type": "markdown",
      "metadata": {
        "application/vnd.databricks.v1+cell": {
          "cellMetadata": {
            "byteLimit": 2048000,
            "rowLimit": 10000
          },
          "inputWidgets": {},
          "nuid": "d653cbd7-452e-46c4-96a5-a8295cdd9b8b",
          "showTitle": false,
          "tableResultSettingsMap": {},
          "title": ""
        },
        "id": "1EwcIXzklx72"
      },
      "source": [
        "### Union"
      ]
    },
    {
      "cell_type": "code",
      "execution_count": null,
      "metadata": {
        "application/vnd.databricks.v1+cell": {
          "cellMetadata": {
            "byteLimit": 2048000,
            "rowLimit": 10000
          },
          "inputWidgets": {},
          "nuid": "077d3dfc-f90e-42c3-8f8a-ea88d4a8a917",
          "showTitle": false,
          "tableResultSettingsMap": {},
          "title": ""
        },
        "id": "fWNZcL7slx72"
      },
      "outputs": [],
      "source": [
        "df1.union(df2).display()"
      ]
    },
    {
      "cell_type": "code",
      "execution_count": null,
      "metadata": {
        "application/vnd.databricks.v1+cell": {
          "cellMetadata": {
            "byteLimit": 2048000,
            "rowLimit": 10000
          },
          "inputWidgets": {},
          "nuid": "08e2bcd8-2482-4d97-b827-8097a56f7f91",
          "showTitle": false,
          "tableResultSettingsMap": {},
          "title": ""
        },
        "id": "F-n4hF8zlx73"
      },
      "outputs": [],
      "source": [
        "data1 = [('kad','1',),\n",
        "        ('sid','2',)]\n",
        "schema1 = 'name STRING, id STRING'\n",
        "\n",
        "df1 = spark.createDataFrame(data1,schema1)\n",
        "\n",
        "df1.display()"
      ]
    },
    {
      "cell_type": "code",
      "execution_count": null,
      "metadata": {
        "application/vnd.databricks.v1+cell": {
          "cellMetadata": {
            "byteLimit": 2048000,
            "rowLimit": 10000
          },
          "inputWidgets": {},
          "nuid": "d55bb8ab-00d5-4fee-9136-5a87c91dbbc7",
          "showTitle": false,
          "tableResultSettingsMap": {},
          "title": ""
        },
        "id": "OQH7hxXflx73"
      },
      "outputs": [],
      "source": [
        "df1.union(df2).display()"
      ]
    },
    {
      "cell_type": "markdown",
      "metadata": {
        "application/vnd.databricks.v1+cell": {
          "cellMetadata": {
            "byteLimit": 2048000,
            "rowLimit": 10000
          },
          "inputWidgets": {},
          "nuid": "4e38f2de-b379-4a03-af13-75876348c2d3",
          "showTitle": false,
          "tableResultSettingsMap": {},
          "title": ""
        },
        "id": "J1eVjgu2lx74"
      },
      "source": [
        "### Union by Name"
      ]
    },
    {
      "cell_type": "code",
      "execution_count": null,
      "metadata": {
        "application/vnd.databricks.v1+cell": {
          "cellMetadata": {
            "byteLimit": 2048000,
            "rowLimit": 10000
          },
          "inputWidgets": {},
          "nuid": "52c69fa4-af9c-4c78-8f4f-3de85567d74a",
          "showTitle": false,
          "tableResultSettingsMap": {},
          "title": ""
        },
        "id": "55iLms-4lx74"
      },
      "outputs": [],
      "source": [
        "df1.unionByName(df2).display()"
      ]
    },
    {
      "cell_type": "markdown",
      "metadata": {
        "application/vnd.databricks.v1+cell": {
          "cellMetadata": {
            "byteLimit": 2048000,
            "rowLimit": 10000
          },
          "inputWidgets": {},
          "nuid": "cbf8457e-8673-4724-be02-c4aa11e94697",
          "showTitle": false,
          "tableResultSettingsMap": {},
          "title": ""
        },
        "id": "N2neH43vlx75"
      },
      "source": [
        "### String Functions"
      ]
    },
    {
      "cell_type": "markdown",
      "metadata": {
        "application/vnd.databricks.v1+cell": {
          "cellMetadata": {
            "byteLimit": 2048000,
            "rowLimit": 10000
          },
          "inputWidgets": {},
          "nuid": "a12bc03b-290e-4187-ba7d-8f2d2c2abb90",
          "showTitle": false,
          "tableResultSettingsMap": {},
          "title": ""
        },
        "id": "IX1PhK_Glx75"
      },
      "source": [
        "#### Initcap()"
      ]
    },
    {
      "cell_type": "code",
      "execution_count": null,
      "metadata": {
        "application/vnd.databricks.v1+cell": {
          "cellMetadata": {
            "byteLimit": 2048000,
            "rowLimit": 10000
          },
          "inputWidgets": {},
          "nuid": "e12e4f01-16f6-4bb6-a834-d76cae573931",
          "showTitle": false,
          "tableResultSettingsMap": {},
          "title": ""
        },
        "id": "uMml32KIlx75"
      },
      "outputs": [],
      "source": [
        "df.select(upper('Item_Type').alias('upper_Item_Type')).display()"
      ]
    },
    {
      "cell_type": "markdown",
      "metadata": {
        "application/vnd.databricks.v1+cell": {
          "cellMetadata": {
            "byteLimit": 2048000,
            "rowLimit": 10000
          },
          "inputWidgets": {},
          "nuid": "f385479a-7927-48c8-b8cf-823dee767f85",
          "showTitle": false,
          "tableResultSettingsMap": {},
          "title": ""
        },
        "id": "J-t660hllx76"
      },
      "source": [
        "### Date Functions"
      ]
    },
    {
      "cell_type": "markdown",
      "metadata": {
        "application/vnd.databricks.v1+cell": {
          "cellMetadata": {
            "byteLimit": 2048000,
            "rowLimit": 10000
          },
          "inputWidgets": {},
          "nuid": "696e3267-f658-4d70-a1e0-6d2fbc3b1e65",
          "showTitle": false,
          "tableResultSettingsMap": {},
          "title": ""
        },
        "id": "vnArvbITlx76"
      },
      "source": [
        "#### Current_Date"
      ]
    },
    {
      "cell_type": "code",
      "execution_count": null,
      "metadata": {
        "application/vnd.databricks.v1+cell": {
          "cellMetadata": {
            "byteLimit": 2048000,
            "rowLimit": 10000
          },
          "inputWidgets": {},
          "nuid": "8fac6861-b4e5-492a-a479-7aebf22d3527",
          "showTitle": false,
          "tableResultSettingsMap": {},
          "title": ""
        },
        "id": "BkS1O0OZlx77"
      },
      "outputs": [],
      "source": [
        "df = df.withColumn('curr_date',current_date())\n",
        "\n",
        "df.display()"
      ]
    },
    {
      "cell_type": "markdown",
      "metadata": {
        "application/vnd.databricks.v1+cell": {
          "cellMetadata": {
            "byteLimit": 2048000,
            "rowLimit": 10000
          },
          "inputWidgets": {},
          "nuid": "cbdcbf55-dc82-42c5-91f3-c1170acd4e00",
          "showTitle": false,
          "tableResultSettingsMap": {},
          "title": ""
        },
        "id": "GrQFr2Yylx78"
      },
      "source": [
        "#### Date_Add()"
      ]
    },
    {
      "cell_type": "code",
      "execution_count": null,
      "metadata": {
        "application/vnd.databricks.v1+cell": {
          "cellMetadata": {
            "byteLimit": 2048000,
            "rowLimit": 10000
          },
          "inputWidgets": {},
          "nuid": "6debe0ad-f48d-438d-8916-a48f44af4d08",
          "showTitle": false,
          "tableResultSettingsMap": {},
          "title": ""
        },
        "id": "U_9KfrADlx78"
      },
      "outputs": [],
      "source": [
        "df = df.withColumn('week_after',date_add('curr_date',7))\n",
        "\n",
        "df.display()"
      ]
    },
    {
      "cell_type": "markdown",
      "metadata": {
        "application/vnd.databricks.v1+cell": {
          "cellMetadata": {
            "byteLimit": 2048000,
            "rowLimit": 10000
          },
          "inputWidgets": {},
          "nuid": "14ae9b13-079a-400a-b655-39bc5e5b13f2",
          "showTitle": false,
          "tableResultSettingsMap": {},
          "title": ""
        },
        "id": "EXM30dK7lx79"
      },
      "source": [
        "#### Date_Sub()"
      ]
    },
    {
      "cell_type": "code",
      "execution_count": null,
      "metadata": {
        "application/vnd.databricks.v1+cell": {
          "cellMetadata": {
            "byteLimit": 2048000,
            "rowLimit": 10000
          },
          "inputWidgets": {},
          "nuid": "a1f79e49-85e5-42a4-b6ad-302c0c6ae5a6",
          "showTitle": false,
          "tableResultSettingsMap": {},
          "title": ""
        },
        "id": "1pOF5q3Ylx79"
      },
      "outputs": [],
      "source": [
        "df.withColumn('week_before',date_sub('curr_date',7)).display()"
      ]
    },
    {
      "cell_type": "code",
      "execution_count": null,
      "metadata": {
        "application/vnd.databricks.v1+cell": {
          "cellMetadata": {
            "byteLimit": 2048000,
            "rowLimit": 10000
          },
          "inputWidgets": {},
          "nuid": "f2ba356e-f8ff-4885-88bb-824298b7351d",
          "showTitle": false,
          "tableResultSettingsMap": {},
          "title": ""
        },
        "id": "muZE0px6lx79"
      },
      "outputs": [],
      "source": [
        "df = df.withColumn('week_before',date_add('curr_date',-7))\n",
        "\n",
        "df.display()"
      ]
    },
    {
      "cell_type": "markdown",
      "metadata": {
        "application/vnd.databricks.v1+cell": {
          "cellMetadata": {
            "byteLimit": 2048000,
            "rowLimit": 10000
          },
          "inputWidgets": {},
          "nuid": "ef33f0e3-7e8a-47a1-8daa-d1d6492ff66d",
          "showTitle": false,
          "tableResultSettingsMap": {},
          "title": ""
        },
        "id": "V3tKG-fUlx79"
      },
      "source": [
        "### DateDIFF"
      ]
    },
    {
      "cell_type": "code",
      "execution_count": null,
      "metadata": {
        "application/vnd.databricks.v1+cell": {
          "cellMetadata": {
            "byteLimit": 2048000,
            "rowLimit": 10000
          },
          "inputWidgets": {},
          "nuid": "561899c5-a594-49b7-846b-ec5b73d398b7",
          "showTitle": false,
          "tableResultSettingsMap": {},
          "title": ""
        },
        "id": "6YkULOoolx7-"
      },
      "outputs": [],
      "source": [
        "df = df.withColumn('datediff',datediff('week_after','curr_date'))\n",
        "\n",
        "df.display()"
      ]
    },
    {
      "cell_type": "markdown",
      "metadata": {
        "application/vnd.databricks.v1+cell": {
          "cellMetadata": {
            "byteLimit": 2048000,
            "rowLimit": 10000
          },
          "inputWidgets": {},
          "nuid": "116a02a6-cb70-431d-9603-2df73d86b39b",
          "showTitle": false,
          "tableResultSettingsMap": {},
          "title": ""
        },
        "id": "ir1ayfrklx7-"
      },
      "source": [
        "### Date_Format()"
      ]
    },
    {
      "cell_type": "code",
      "execution_count": null,
      "metadata": {
        "application/vnd.databricks.v1+cell": {
          "cellMetadata": {
            "byteLimit": 2048000,
            "rowLimit": 10000
          },
          "inputWidgets": {},
          "nuid": "7b388cc4-8be3-4bf3-8d5e-37256c09d04f",
          "showTitle": false,
          "tableResultSettingsMap": {},
          "title": ""
        },
        "id": "7se6tKjElx7_"
      },
      "outputs": [],
      "source": [
        "df = df.withColumn('week_before',date_format('week_before','dd-MM-yyyy'))\n",
        "\n",
        "df.display()"
      ]
    },
    {
      "cell_type": "markdown",
      "metadata": {
        "application/vnd.databricks.v1+cell": {
          "cellMetadata": {
            "byteLimit": 2048000,
            "rowLimit": 10000
          },
          "inputWidgets": {},
          "nuid": "b0ab71a3-d89c-4082-88e3-e12a8bdaf7a1",
          "showTitle": false,
          "tableResultSettingsMap": {},
          "title": ""
        },
        "id": "bbu7wGUTlx7_"
      },
      "source": [
        "### Handling Nulls"
      ]
    },
    {
      "cell_type": "markdown",
      "metadata": {
        "application/vnd.databricks.v1+cell": {
          "cellMetadata": {
            "byteLimit": 2048000,
            "rowLimit": 10000
          },
          "inputWidgets": {},
          "nuid": "8d8e3ee6-97c9-4472-bd29-6e3b689b72c4",
          "showTitle": false,
          "tableResultSettingsMap": {},
          "title": ""
        },
        "id": "wxIV_oYTlx8A"
      },
      "source": [
        "#### Dropping NUlls"
      ]
    },
    {
      "cell_type": "code",
      "execution_count": null,
      "metadata": {
        "application/vnd.databricks.v1+cell": {
          "cellMetadata": {
            "byteLimit": 2048000,
            "rowLimit": 10000
          },
          "inputWidgets": {},
          "nuid": "6cf4c678-4e2f-422f-a118-d9185f9ffff0",
          "showTitle": false,
          "tableResultSettingsMap": {},
          "title": ""
        },
        "id": "f4CZV0A-lx8A"
      },
      "outputs": [],
      "source": [
        "df.dropna('all').display()"
      ]
    },
    {
      "cell_type": "code",
      "execution_count": null,
      "metadata": {
        "application/vnd.databricks.v1+cell": {
          "cellMetadata": {
            "byteLimit": 2048000,
            "rowLimit": 10000
          },
          "inputWidgets": {},
          "nuid": "10f2022f-7255-45f4-9b64-56e1bf7e9261",
          "showTitle": false,
          "tableResultSettingsMap": {},
          "title": ""
        },
        "id": "A0dw3N2ilx8B"
      },
      "outputs": [],
      "source": [
        "df.dropna('any').display()"
      ]
    },
    {
      "cell_type": "code",
      "execution_count": null,
      "metadata": {
        "application/vnd.databricks.v1+cell": {
          "cellMetadata": {
            "byteLimit": 2048000,
            "rowLimit": 10000
          },
          "inputWidgets": {},
          "nuid": "c906ce27-5a9d-47d4-8424-6c62ad05b00b",
          "showTitle": false,
          "tableResultSettingsMap": {},
          "title": ""
        },
        "id": "ATrBjuoElx8B"
      },
      "outputs": [],
      "source": [
        "df.dropna(subset=['Outlet_Size']).display()"
      ]
    },
    {
      "cell_type": "code",
      "execution_count": null,
      "metadata": {
        "application/vnd.databricks.v1+cell": {
          "cellMetadata": {
            "byteLimit": 2048000,
            "rowLimit": 10000
          },
          "inputWidgets": {},
          "nuid": "95879455-23f9-416a-98a7-4f1eb65080cb",
          "showTitle": false,
          "tableResultSettingsMap": {},
          "title": ""
        },
        "id": "XTTZlCfflx8B"
      },
      "outputs": [],
      "source": [
        "df.display()"
      ]
    },
    {
      "cell_type": "markdown",
      "metadata": {
        "application/vnd.databricks.v1+cell": {
          "cellMetadata": {
            "byteLimit": 2048000,
            "rowLimit": 10000
          },
          "inputWidgets": {},
          "nuid": "c0f78b95-c469-40ac-9518-7fa24bbff321",
          "showTitle": false,
          "tableResultSettingsMap": {},
          "title": ""
        },
        "id": "qzQEo_rdlx8C"
      },
      "source": [
        "#### Filling Nulls"
      ]
    },
    {
      "cell_type": "code",
      "execution_count": null,
      "metadata": {
        "application/vnd.databricks.v1+cell": {
          "cellMetadata": {
            "byteLimit": 2048000,
            "rowLimit": 10000
          },
          "inputWidgets": {},
          "nuid": "7c7213e9-60db-49f7-8389-a6d817cd5bde",
          "showTitle": false,
          "tableResultSettingsMap": {},
          "title": ""
        },
        "id": "bkTrT7oClx8C"
      },
      "outputs": [],
      "source": [
        "df.fillna('NotAvailable').display()"
      ]
    },
    {
      "cell_type": "code",
      "execution_count": null,
      "metadata": {
        "application/vnd.databricks.v1+cell": {
          "cellMetadata": {
            "byteLimit": 2048000,
            "rowLimit": 10000
          },
          "inputWidgets": {},
          "nuid": "7add516b-54b7-46eb-a4d0-f04e51668d3b",
          "showTitle": false,
          "tableResultSettingsMap": {},
          "title": ""
        },
        "id": "JEfUaXNMlx8D"
      },
      "outputs": [],
      "source": [
        "df.fillna('NotAvailable',subset=['Outlet_Size']).display()"
      ]
    },
    {
      "cell_type": "markdown",
      "metadata": {
        "application/vnd.databricks.v1+cell": {
          "cellMetadata": {
            "byteLimit": 2048000,
            "rowLimit": 10000
          },
          "inputWidgets": {},
          "nuid": "32cce961-5e35-4154-98fc-9f49a239ff73",
          "showTitle": false,
          "tableResultSettingsMap": {},
          "title": ""
        },
        "id": "5hZ08tCslx8D"
      },
      "source": [
        "### SPLIT and Indexing"
      ]
    },
    {
      "cell_type": "markdown",
      "metadata": {
        "application/vnd.databricks.v1+cell": {
          "cellMetadata": {
            "byteLimit": 2048000,
            "rowLimit": 10000
          },
          "inputWidgets": {},
          "nuid": "0a407e46-daa3-41a3-84a5-cade9b73e338",
          "showTitle": false,
          "tableResultSettingsMap": {},
          "title": ""
        },
        "id": "TbH-ivuPlx8E"
      },
      "source": [
        "#### SPLIT"
      ]
    },
    {
      "cell_type": "code",
      "execution_count": null,
      "metadata": {
        "application/vnd.databricks.v1+cell": {
          "cellMetadata": {
            "byteLimit": 2048000,
            "rowLimit": 10000
          },
          "inputWidgets": {},
          "nuid": "f117ee1f-33bd-43bc-a6f2-1f377582c00e",
          "showTitle": false,
          "tableResultSettingsMap": {},
          "title": ""
        },
        "id": "D2e7knovlx8E"
      },
      "outputs": [],
      "source": [
        "df.withColumn('Outlet_Type',split('Outlet_Type',' ')).display()"
      ]
    },
    {
      "cell_type": "markdown",
      "metadata": {
        "application/vnd.databricks.v1+cell": {
          "cellMetadata": {
            "byteLimit": 2048000,
            "rowLimit": 10000
          },
          "inputWidgets": {},
          "nuid": "2bcf0228-451c-44e4-8cb9-196f24840f80",
          "showTitle": false,
          "tableResultSettingsMap": {},
          "title": ""
        },
        "id": "sScgjbgGlx8E"
      },
      "source": [
        "#### Indexing"
      ]
    },
    {
      "cell_type": "code",
      "execution_count": null,
      "metadata": {
        "application/vnd.databricks.v1+cell": {
          "cellMetadata": {
            "byteLimit": 2048000,
            "rowLimit": 10000
          },
          "inputWidgets": {},
          "nuid": "a0e0b482-9a99-471d-b0c0-56d4b344f3fa",
          "showTitle": false,
          "tableResultSettingsMap": {},
          "title": ""
        },
        "id": "MjU1xai4lx8F"
      },
      "outputs": [],
      "source": [
        "df.withColumn('Outlet_Type',split('Outlet_Type',' ')[1]).display()"
      ]
    },
    {
      "cell_type": "markdown",
      "metadata": {
        "application/vnd.databricks.v1+cell": {
          "cellMetadata": {
            "byteLimit": 2048000,
            "rowLimit": 10000
          },
          "inputWidgets": {},
          "nuid": "b321035b-0edf-4453-9126-e5f896e49cfa",
          "showTitle": false,
          "tableResultSettingsMap": {},
          "title": ""
        },
        "id": "YmiNSDQ1lx8F"
      },
      "source": [
        "### Explode"
      ]
    },
    {
      "cell_type": "code",
      "execution_count": null,
      "metadata": {
        "application/vnd.databricks.v1+cell": {
          "cellMetadata": {
            "byteLimit": 2048000,
            "rowLimit": 10000
          },
          "inputWidgets": {},
          "nuid": "51bed087-ffe7-44de-96ca-0623bc917314",
          "showTitle": false,
          "tableResultSettingsMap": {},
          "title": ""
        },
        "id": "UQH1lWw2lx8F"
      },
      "outputs": [],
      "source": [
        "df_exp = df.withColumn('Outlet_Type',split('Outlet_Type',' '))\n",
        "\n",
        "df_exp.display()"
      ]
    },
    {
      "cell_type": "code",
      "execution_count": null,
      "metadata": {
        "application/vnd.databricks.v1+cell": {
          "cellMetadata": {
            "byteLimit": 2048000,
            "rowLimit": 10000
          },
          "inputWidgets": {},
          "nuid": "12abdaf4-da53-4648-b85e-c0792df094e3",
          "showTitle": false,
          "tableResultSettingsMap": {},
          "title": ""
        },
        "id": "QrpTbjcalx8G"
      },
      "outputs": [],
      "source": [
        "df_exp.withColumn('Outlet_Type',explode('Outlet_Type')).display()"
      ]
    },
    {
      "cell_type": "code",
      "execution_count": null,
      "metadata": {
        "application/vnd.databricks.v1+cell": {
          "cellMetadata": {
            "byteLimit": 2048000,
            "rowLimit": 10000
          },
          "inputWidgets": {},
          "nuid": "eb4e3f07-37f2-45a1-b0e8-8068e21b1286",
          "showTitle": false,
          "tableResultSettingsMap": {},
          "title": ""
        },
        "id": "AwYZNvAslx8G"
      },
      "outputs": [],
      "source": [
        "df_exp.display()"
      ]
    },
    {
      "cell_type": "code",
      "execution_count": null,
      "metadata": {
        "application/vnd.databricks.v1+cell": {
          "cellMetadata": {
            "byteLimit": 2048000,
            "rowLimit": 10000
          },
          "inputWidgets": {},
          "nuid": "f302e5ba-3206-412e-9631-fd3cf5fe8764",
          "showTitle": false,
          "tableResultSettingsMap": {},
          "title": ""
        },
        "id": "DSkn_iD8lx8G"
      },
      "outputs": [],
      "source": [
        "df_exp.withColumn('Type1_flag',array_contains('Outlet_Type','Type1')).display()"
      ]
    },
    {
      "cell_type": "markdown",
      "metadata": {
        "application/vnd.databricks.v1+cell": {
          "cellMetadata": {
            "byteLimit": 2048000,
            "rowLimit": 10000
          },
          "inputWidgets": {},
          "nuid": "0fdc8587-a2b3-497d-ac80-cc761f18d178",
          "showTitle": false,
          "tableResultSettingsMap": {},
          "title": ""
        },
        "id": "JGFm1N6ilx8H"
      },
      "source": [
        "### GroupBY"
      ]
    },
    {
      "cell_type": "markdown",
      "metadata": {
        "application/vnd.databricks.v1+cell": {
          "cellMetadata": {
            "byteLimit": 2048000,
            "rowLimit": 10000
          },
          "inputWidgets": {},
          "nuid": "cafcca98-1b43-4a88-a0e0-ed81271728e5",
          "showTitle": false,
          "tableResultSettingsMap": {},
          "title": ""
        },
        "id": "XqIQuaivlx8H"
      },
      "source": [
        "#### Scenario - 1"
      ]
    },
    {
      "cell_type": "code",
      "execution_count": null,
      "metadata": {
        "application/vnd.databricks.v1+cell": {
          "cellMetadata": {
            "byteLimit": 2048000,
            "rowLimit": 10000
          },
          "inputWidgets": {},
          "nuid": "118ed283-d425-4813-93ff-e7c3eb8f0bee",
          "showTitle": false,
          "tableResultSettingsMap": {},
          "title": ""
        },
        "id": "UVAynnYulx8H"
      },
      "outputs": [],
      "source": [
        "df.display()"
      ]
    },
    {
      "cell_type": "code",
      "execution_count": null,
      "metadata": {
        "application/vnd.databricks.v1+cell": {
          "cellMetadata": {
            "byteLimit": 2048000,
            "rowLimit": 10000
          },
          "inputWidgets": {},
          "nuid": "284173f9-c325-405e-a078-de2482c15d65",
          "showTitle": false,
          "tableResultSettingsMap": {},
          "title": ""
        },
        "id": "CowDvG2-lx8I"
      },
      "outputs": [],
      "source": [
        "df.groupBy('Item_Type').agg(sum('Item_MRP')).display()"
      ]
    },
    {
      "cell_type": "markdown",
      "metadata": {
        "application/vnd.databricks.v1+cell": {
          "cellMetadata": {
            "byteLimit": 2048000,
            "rowLimit": 10000
          },
          "inputWidgets": {},
          "nuid": "8108bdfb-ad19-4cff-8fc4-9e6be6bb51da",
          "showTitle": false,
          "tableResultSettingsMap": {},
          "title": ""
        },
        "id": "8lNP0SMtlx8I"
      },
      "source": [
        "#### Scenario - 2"
      ]
    },
    {
      "cell_type": "code",
      "execution_count": null,
      "metadata": {
        "application/vnd.databricks.v1+cell": {
          "cellMetadata": {
            "byteLimit": 2048000,
            "rowLimit": 10000
          },
          "inputWidgets": {},
          "nuid": "ff4c4414-8ced-4f6d-9824-4f9b8cd9fa16",
          "showTitle": false,
          "tableResultSettingsMap": {},
          "title": ""
        },
        "id": "b3YuWeSWlx8J"
      },
      "outputs": [],
      "source": [
        "df.groupBy('Item_Type').agg(avg('Item_MRP')).display()"
      ]
    },
    {
      "cell_type": "markdown",
      "metadata": {
        "application/vnd.databricks.v1+cell": {
          "cellMetadata": {
            "byteLimit": 2048000,
            "rowLimit": 10000
          },
          "inputWidgets": {},
          "nuid": "8a978424-d428-48b2-800a-f8dd634868be",
          "showTitle": false,
          "tableResultSettingsMap": {},
          "title": ""
        },
        "id": "uHt2f6Kalx8J"
      },
      "source": [
        "#### SCenario - 3"
      ]
    },
    {
      "cell_type": "code",
      "execution_count": null,
      "metadata": {
        "application/vnd.databricks.v1+cell": {
          "cellMetadata": {
            "byteLimit": 2048000,
            "rowLimit": 10000
          },
          "inputWidgets": {},
          "nuid": "a795adf1-871d-4107-b6fc-862da38c6652",
          "showTitle": false,
          "tableResultSettingsMap": {},
          "title": ""
        },
        "id": "JQz23L0-lx8J"
      },
      "outputs": [],
      "source": [
        "df.groupBy('Item_Type','Outlet_Size').agg(sum('Item_MRP').alias('Total_MRP')).display()"
      ]
    },
    {
      "cell_type": "markdown",
      "metadata": {
        "application/vnd.databricks.v1+cell": {
          "cellMetadata": {
            "byteLimit": 2048000,
            "rowLimit": 10000
          },
          "inputWidgets": {},
          "nuid": "544cfb44-9d0e-4926-b020-188a75724bef",
          "showTitle": false,
          "tableResultSettingsMap": {},
          "title": ""
        },
        "id": "PFhNCsvNlx8J"
      },
      "source": [
        "#### Scenario - 4"
      ]
    },
    {
      "cell_type": "code",
      "execution_count": null,
      "metadata": {
        "application/vnd.databricks.v1+cell": {
          "cellMetadata": {
            "byteLimit": 2048000,
            "rowLimit": 10000
          },
          "inputWidgets": {},
          "nuid": "ead309bf-fcb0-4a32-ae9b-37f69325c135",
          "showTitle": false,
          "tableResultSettingsMap": {},
          "title": ""
        },
        "id": "qe_YCZQWlx8K"
      },
      "outputs": [],
      "source": [
        "df.groupBy('Item_Type','Outlet_Size').agg(sum('Item_MRP'),avg('Item_MRP')).display()"
      ]
    },
    {
      "cell_type": "markdown",
      "metadata": {
        "application/vnd.databricks.v1+cell": {
          "cellMetadata": {
            "byteLimit": 2048000,
            "rowLimit": 10000
          },
          "inputWidgets": {},
          "nuid": "1bb77c66-0ba0-41b9-9ed5-a01b5499e08d",
          "showTitle": false,
          "tableResultSettingsMap": {},
          "title": ""
        },
        "id": "XF66tUHNlx8K"
      },
      "source": [
        "### Collect_List"
      ]
    },
    {
      "cell_type": "code",
      "execution_count": null,
      "metadata": {
        "application/vnd.databricks.v1+cell": {
          "cellMetadata": {
            "byteLimit": 2048000,
            "rowLimit": 10000
          },
          "inputWidgets": {},
          "nuid": "0e9f704d-6bd0-499a-af3e-69def869af8c",
          "showTitle": false,
          "tableResultSettingsMap": {},
          "title": ""
        },
        "id": "QnzULo2mlx8K"
      },
      "outputs": [],
      "source": [
        "data = [('user1','book1'),\n",
        "        ('user1','book2'),\n",
        "        ('user2','book2'),\n",
        "        ('user2','book4'),\n",
        "        ('user3','book1')]\n",
        "\n",
        "schema = 'user string, book string'\n",
        "\n",
        "df_book = spark.createDataFrame(data,schema)\n",
        "\n",
        "df_book.display()"
      ]
    },
    {
      "cell_type": "code",
      "execution_count": null,
      "metadata": {
        "application/vnd.databricks.v1+cell": {
          "cellMetadata": {
            "byteLimit": 2048000,
            "rowLimit": 10000
          },
          "inputWidgets": {},
          "nuid": "48f241f8-e84b-4298-b368-3bf243ef7fee",
          "showTitle": false,
          "tableResultSettingsMap": {},
          "title": ""
        },
        "id": "CNuz9ebZlx8L"
      },
      "outputs": [],
      "source": [
        "df_book.groupBy('user').agg(collect_list('book')).display()"
      ]
    },
    {
      "cell_type": "code",
      "execution_count": null,
      "metadata": {
        "application/vnd.databricks.v1+cell": {
          "cellMetadata": {
            "byteLimit": 2048000,
            "rowLimit": 10000
          },
          "inputWidgets": {},
          "nuid": "1196cacd-7308-4278-b38a-ab58d2151ce2",
          "showTitle": false,
          "tableResultSettingsMap": {},
          "title": ""
        },
        "id": "Kr5xmeJnlx8L"
      },
      "outputs": [],
      "source": [
        "df.select('Item_Type','Outlet_Size','Item_MRP').display()"
      ]
    },
    {
      "cell_type": "markdown",
      "metadata": {
        "application/vnd.databricks.v1+cell": {
          "cellMetadata": {
            "byteLimit": 2048000,
            "rowLimit": 10000
          },
          "inputWidgets": {},
          "nuid": "0a9e5ea0-b327-480c-afc6-f3951e3e7aa9",
          "showTitle": false,
          "tableResultSettingsMap": {},
          "title": ""
        },
        "id": "_VXd95R9lx8L"
      },
      "source": [
        "### PIVOT"
      ]
    },
    {
      "cell_type": "code",
      "execution_count": null,
      "metadata": {
        "application/vnd.databricks.v1+cell": {
          "cellMetadata": {
            "byteLimit": 2048000,
            "rowLimit": 10000
          },
          "inputWidgets": {},
          "nuid": "c38cebc8-2136-4280-80a2-bdef1e08081f",
          "showTitle": false,
          "tableResultSettingsMap": {},
          "title": ""
        },
        "id": "Obw8MgZhlx8M"
      },
      "outputs": [],
      "source": [
        "df.groupBy('Item_Type').pivot('Outlet_Size').agg(avg('Item_MRP')).display()"
      ]
    },
    {
      "cell_type": "markdown",
      "metadata": {
        "application/vnd.databricks.v1+cell": {
          "cellMetadata": {
            "byteLimit": 2048000,
            "rowLimit": 10000
          },
          "inputWidgets": {},
          "nuid": "044acc7b-cce1-4ce3-89ae-bde0e00a1f35",
          "showTitle": false,
          "tableResultSettingsMap": {},
          "title": ""
        },
        "id": "b0_8JuCRlx8M"
      },
      "source": [
        "### When-Otherwise"
      ]
    },
    {
      "cell_type": "markdown",
      "metadata": {
        "application/vnd.databricks.v1+cell": {
          "cellMetadata": {
            "byteLimit": 2048000,
            "rowLimit": 10000
          },
          "inputWidgets": {},
          "nuid": "759fd0a2-f4ae-44c0-8869-6efb7aa00c58",
          "showTitle": false,
          "tableResultSettingsMap": {},
          "title": ""
        },
        "id": "amVbLTsKlx8N"
      },
      "source": [
        "#### Scenario - 1"
      ]
    },
    {
      "cell_type": "code",
      "execution_count": null,
      "metadata": {
        "application/vnd.databricks.v1+cell": {
          "cellMetadata": {
            "byteLimit": 2048000,
            "rowLimit": 10000
          },
          "inputWidgets": {},
          "nuid": "ba14c4b5-167d-4e84-9abf-2707750384fe",
          "showTitle": false,
          "tableResultSettingsMap": {},
          "title": ""
        },
        "id": "Eo2owid0lx8N"
      },
      "outputs": [],
      "source": [
        "df = df.withColumn('veg_flag',when(col('Item_Type')=='Meat','Non-Veg').otherwise('Veg'))"
      ]
    },
    {
      "cell_type": "code",
      "execution_count": null,
      "metadata": {
        "application/vnd.databricks.v1+cell": {
          "cellMetadata": {
            "byteLimit": 2048000,
            "rowLimit": 10000
          },
          "inputWidgets": {},
          "nuid": "5eb81236-a6e0-42dc-a8d4-b3383a04d14e",
          "showTitle": false,
          "tableResultSettingsMap": {},
          "title": ""
        },
        "id": "DiBjAVwylx8O"
      },
      "outputs": [],
      "source": [
        "df.display()"
      ]
    },
    {
      "cell_type": "code",
      "execution_count": null,
      "metadata": {
        "application/vnd.databricks.v1+cell": {
          "cellMetadata": {
            "byteLimit": 2048000,
            "rowLimit": 10000
          },
          "inputWidgets": {},
          "nuid": "5f75e153-16d3-4fa2-8a5a-6464f6db59f9",
          "showTitle": false,
          "tableResultSettingsMap": {},
          "title": ""
        },
        "id": "TObtKN24lx8O"
      },
      "outputs": [],
      "source": [
        "df.withColumn('veg_exp_flag',when(((col('veg_flag')=='Veg') & (col('Item_MRP')<100)),'Veg_Inexpensive')\\\n",
        "                            .when((col('veg_flag')=='Veg') & (col('Item_MRP')>100),'Veg_Expensive')\\\n",
        "                            .otherwise('Non_Veg')).display()"
      ]
    },
    {
      "cell_type": "markdown",
      "metadata": {
        "application/vnd.databricks.v1+cell": {
          "cellMetadata": {
            "byteLimit": 2048000,
            "rowLimit": 10000
          },
          "inputWidgets": {},
          "nuid": "a4de23d4-2f19-40bf-ba75-6cf8acf06954",
          "showTitle": false,
          "tableResultSettingsMap": {},
          "title": ""
        },
        "id": "AsSVkFJhlx8P"
      },
      "source": [
        "### JOINS"
      ]
    },
    {
      "cell_type": "code",
      "execution_count": null,
      "metadata": {
        "application/vnd.databricks.v1+cell": {
          "cellMetadata": {
            "byteLimit": 2048000,
            "rowLimit": 10000
          },
          "inputWidgets": {},
          "nuid": "bf98a289-6598-4f74-8629-f1d0452c7e5c",
          "showTitle": false,
          "tableResultSettingsMap": {},
          "title": ""
        },
        "id": "gj22muXZlx8P"
      },
      "outputs": [],
      "source": [
        "dataj1 = [('1','gaur','d01'),\n",
        "          ('2','kit','d02'),\n",
        "          ('3','sam','d03'),\n",
        "          ('4','tim','d03'),\n",
        "          ('5','aman','d05'),\n",
        "          ('6','nad','d06')]\n",
        "\n",
        "schemaj1 = 'emp_id STRING, emp_name STRING, dept_id STRING'\n",
        "\n",
        "df1 = spark.createDataFrame(dataj1,schemaj1)\n",
        "\n",
        "dataj2 = [('d01','HR'),\n",
        "          ('d02','Marketing'),\n",
        "          ('d03','Accounts'),\n",
        "          ('d04','IT'),\n",
        "          ('d05','Finance')]\n",
        "\n",
        "schemaj2 = 'dept_id STRING, department STRING'\n",
        "\n",
        "df2 = spark.createDataFrame(dataj2,schemaj2)"
      ]
    },
    {
      "cell_type": "code",
      "execution_count": null,
      "metadata": {
        "application/vnd.databricks.v1+cell": {
          "cellMetadata": {
            "byteLimit": 2048000,
            "rowLimit": 10000
          },
          "inputWidgets": {},
          "nuid": "b077f0e7-2d4f-4f25-a37c-c342a1a9f5d3",
          "showTitle": false,
          "tableResultSettingsMap": {},
          "title": ""
        },
        "id": "GoPcg_HLlx8Q"
      },
      "outputs": [],
      "source": [
        "df1.display()"
      ]
    },
    {
      "cell_type": "code",
      "execution_count": null,
      "metadata": {
        "application/vnd.databricks.v1+cell": {
          "cellMetadata": {
            "byteLimit": 2048000,
            "rowLimit": 10000
          },
          "inputWidgets": {},
          "nuid": "4635a516-04d7-4860-8df2-188eb8cfaa6d",
          "showTitle": false,
          "tableResultSettingsMap": {},
          "title": ""
        },
        "id": "0n_Xly1Mlx8Q"
      },
      "outputs": [],
      "source": [
        "df2.display()"
      ]
    },
    {
      "cell_type": "markdown",
      "metadata": {
        "application/vnd.databricks.v1+cell": {
          "cellMetadata": {
            "byteLimit": 2048000,
            "rowLimit": 10000
          },
          "inputWidgets": {},
          "nuid": "f1527717-568b-4eba-9145-a71e572fedf6",
          "showTitle": false,
          "tableResultSettingsMap": {},
          "title": ""
        },
        "id": "ar78VUFAlx8R"
      },
      "source": [
        "#### Inner Join"
      ]
    },
    {
      "cell_type": "code",
      "execution_count": null,
      "metadata": {
        "application/vnd.databricks.v1+cell": {
          "cellMetadata": {
            "byteLimit": 2048000,
            "rowLimit": 10000
          },
          "inputWidgets": {},
          "nuid": "15ec06df-78d9-4ede-a9eb-617660f62129",
          "showTitle": false,
          "tableResultSettingsMap": {},
          "title": ""
        },
        "id": "yiRa9MSOlx8R"
      },
      "outputs": [],
      "source": [
        "df1.join(df2, df1['dept_id']==df2['dept_id'],'inner').display()"
      ]
    },
    {
      "cell_type": "markdown",
      "metadata": {
        "application/vnd.databricks.v1+cell": {
          "cellMetadata": {
            "byteLimit": 2048000,
            "rowLimit": 10000
          },
          "inputWidgets": {},
          "nuid": "a855fbc2-4d4c-4e49-8dfd-59223458c6d5",
          "showTitle": false,
          "tableResultSettingsMap": {},
          "title": ""
        },
        "id": "nSJC9_AMlx8S"
      },
      "source": [
        "#### Left Join"
      ]
    },
    {
      "cell_type": "code",
      "execution_count": null,
      "metadata": {
        "application/vnd.databricks.v1+cell": {
          "cellMetadata": {
            "byteLimit": 2048000,
            "rowLimit": 10000
          },
          "inputWidgets": {},
          "nuid": "62578cd9-af8c-4209-b1cb-20eb7fd389cd",
          "showTitle": false,
          "tableResultSettingsMap": {},
          "title": ""
        },
        "id": "pufDDyoklx8S"
      },
      "outputs": [],
      "source": [
        "df1.join(df2,df1['dept_id']==df2['dept_id'],'left').display()"
      ]
    },
    {
      "cell_type": "markdown",
      "metadata": {
        "application/vnd.databricks.v1+cell": {
          "cellMetadata": {
            "byteLimit": 2048000,
            "rowLimit": 10000
          },
          "inputWidgets": {},
          "nuid": "f7ede923-a6ad-49df-8a46-2ce496fa508d",
          "showTitle": false,
          "tableResultSettingsMap": {},
          "title": ""
        },
        "id": "dyC3odvblx8S"
      },
      "source": [
        "#### LEFT JOIN"
      ]
    },
    {
      "cell_type": "code",
      "execution_count": null,
      "metadata": {
        "application/vnd.databricks.v1+cell": {
          "cellMetadata": {
            "byteLimit": 2048000,
            "rowLimit": 10000
          },
          "inputWidgets": {},
          "nuid": "4d21c653-2e75-45b8-9a06-eed9905e9be0",
          "showTitle": false,
          "tableResultSettingsMap": {},
          "title": ""
        },
        "id": "VBobE01tlx8S"
      },
      "outputs": [],
      "source": [
        "df1.join(df2,df1['dept_id']==df2['dept_id'],'right').display()"
      ]
    },
    {
      "cell_type": "markdown",
      "metadata": {
        "application/vnd.databricks.v1+cell": {
          "cellMetadata": {
            "byteLimit": 2048000,
            "rowLimit": 10000
          },
          "inputWidgets": {},
          "nuid": "445fee52-50fa-4a49-a091-82238bceffd5",
          "showTitle": false,
          "tableResultSettingsMap": {},
          "title": ""
        },
        "id": "7gZDWqLulx8T"
      },
      "source": [
        "#### ANTI JOIN"
      ]
    },
    {
      "cell_type": "code",
      "execution_count": null,
      "metadata": {
        "application/vnd.databricks.v1+cell": {
          "cellMetadata": {
            "byteLimit": 2048000,
            "rowLimit": 10000
          },
          "inputWidgets": {},
          "nuid": "d5fa0947-20a1-4928-b958-6d93099aa96c",
          "showTitle": false,
          "tableResultSettingsMap": {},
          "title": ""
        },
        "id": "aDSnRLfilx8T"
      },
      "outputs": [],
      "source": [
        "df1.join(df2,df1['dept_id']==df2['dept_id'],'anti').display()"
      ]
    },
    {
      "cell_type": "markdown",
      "metadata": {
        "application/vnd.databricks.v1+cell": {
          "cellMetadata": {
            "byteLimit": 2048000,
            "rowLimit": 10000
          },
          "inputWidgets": {},
          "nuid": "43b6874c-c687-47e5-bdc5-bb62e1447616",
          "showTitle": false,
          "tableResultSettingsMap": {},
          "title": ""
        },
        "id": "PXZG3SaQlx8U"
      },
      "source": [
        "### WINDOW FUNCTIONS"
      ]
    },
    {
      "cell_type": "markdown",
      "metadata": {
        "application/vnd.databricks.v1+cell": {
          "cellMetadata": {
            "byteLimit": 2048000,
            "rowLimit": 10000
          },
          "inputWidgets": {},
          "nuid": "2c756731-572c-4d2d-8e0c-e0d377eda808",
          "showTitle": false,
          "tableResultSettingsMap": {},
          "title": ""
        },
        "id": "xGu8V9_ylx8U"
      },
      "source": [
        "#### ROW_NUMBER()"
      ]
    },
    {
      "cell_type": "code",
      "execution_count": null,
      "metadata": {
        "application/vnd.databricks.v1+cell": {
          "cellMetadata": {
            "byteLimit": 2048000,
            "rowLimit": 10000
          },
          "inputWidgets": {},
          "nuid": "ad7d3038-5cf1-4853-92b2-4d4d6c77fe63",
          "showTitle": false,
          "tableResultSettingsMap": {},
          "title": ""
        },
        "id": "njvoei1ulx8U"
      },
      "outputs": [],
      "source": [
        "df.display()"
      ]
    },
    {
      "cell_type": "code",
      "execution_count": null,
      "metadata": {
        "application/vnd.databricks.v1+cell": {
          "cellMetadata": {
            "byteLimit": 2048000,
            "rowLimit": 10000
          },
          "inputWidgets": {},
          "nuid": "85e06bb4-5d1e-41c2-b61f-59ab7a276f1c",
          "showTitle": false,
          "tableResultSettingsMap": {},
          "title": ""
        },
        "id": "itspxclxlx8U"
      },
      "outputs": [],
      "source": [
        "from pyspark.sql.window import Window"
      ]
    },
    {
      "cell_type": "code",
      "execution_count": null,
      "metadata": {
        "application/vnd.databricks.v1+cell": {
          "cellMetadata": {
            "byteLimit": 2048000,
            "rowLimit": 10000
          },
          "inputWidgets": {},
          "nuid": "65b4c1a7-f7d5-4b8f-b849-a161121af976",
          "showTitle": false,
          "tableResultSettingsMap": {},
          "title": ""
        },
        "id": "O9qkIxdQlx8V"
      },
      "outputs": [],
      "source": [
        "df.withColumn('rowCol',row_number().over(Window.orderBy('Item_Identifier'))).display()"
      ]
    },
    {
      "cell_type": "markdown",
      "metadata": {
        "application/vnd.databricks.v1+cell": {
          "cellMetadata": {
            "byteLimit": 2048000,
            "rowLimit": 10000
          },
          "inputWidgets": {},
          "nuid": "7a070a6d-a51d-40b3-8a6e-158ac4ca0699",
          "showTitle": false,
          "tableResultSettingsMap": {},
          "title": ""
        },
        "id": "51G-k29Dlx8W"
      },
      "source": [
        "#### RANK VS DENSE RANK"
      ]
    },
    {
      "cell_type": "code",
      "execution_count": null,
      "metadata": {
        "application/vnd.databricks.v1+cell": {
          "cellMetadata": {
            "byteLimit": 2048000,
            "rowLimit": 10000
          },
          "inputWidgets": {},
          "nuid": "e77753e4-3204-4a43-a1b9-9b2c0bb8b508",
          "showTitle": false,
          "tableResultSettingsMap": {},
          "title": ""
        },
        "id": "SDc7NDlYlx8W"
      },
      "outputs": [],
      "source": [
        "df.withColumn('rank',rank().over(Window.orderBy(col('Item_Identifier').desc())))\\\n",
        "        .withColumn('denseRank',dense_rank().over(Window.orderBy(col('Item_Identifier').desc()))).display()"
      ]
    },
    {
      "cell_type": "code",
      "execution_count": null,
      "metadata": {
        "application/vnd.databricks.v1+cell": {
          "cellMetadata": {
            "byteLimit": 2048000,
            "rowLimit": 10000
          },
          "inputWidgets": {},
          "nuid": "6471c6dc-d767-4aa3-9402-7486e2c3590e",
          "showTitle": false,
          "tableResultSettingsMap": {},
          "title": ""
        },
        "id": "PKk_PGLZlx8W"
      },
      "outputs": [],
      "source": [
        "df.withColumn('dum',sum('Item_MRP').over(Window.orderBy('Item_Identifier').rowsBetween(Window.unboundedPreceding,Window.currentRow))).display()"
      ]
    },
    {
      "cell_type": "markdown",
      "metadata": {
        "application/vnd.databricks.v1+cell": {
          "cellMetadata": {},
          "inputWidgets": {},
          "nuid": "ef47e65f-fbf9-4ade-bf6d-37b96aa71e17",
          "showTitle": false,
          "tableResultSettingsMap": {},
          "title": ""
        },
        "id": "RNwvLubJlx8X"
      },
      "source": [
        "#### Cumulative Sum"
      ]
    },
    {
      "cell_type": "code",
      "execution_count": null,
      "metadata": {
        "application/vnd.databricks.v1+cell": {
          "cellMetadata": {
            "byteLimit": 2048000,
            "rowLimit": 10000
          },
          "inputWidgets": {},
          "nuid": "7f70c0df-034e-47f1-aa3b-edc1d27a5136",
          "showTitle": false,
          "tableResultSettingsMap": {},
          "title": ""
        },
        "id": "us7_pl2Klx8X"
      },
      "outputs": [],
      "source": [
        "df.withColumn('cumsum',sum('Item_MRP').over(Window.orderBy('Item_Type'))).display()"
      ]
    },
    {
      "cell_type": "code",
      "execution_count": null,
      "metadata": {
        "application/vnd.databricks.v1+cell": {
          "cellMetadata": {
            "byteLimit": 2048000,
            "rowLimit": 10000
          },
          "inputWidgets": {},
          "nuid": "77e1abba-3190-4eae-b400-73ad32e49f67",
          "showTitle": false,
          "tableResultSettingsMap": {},
          "title": ""
        },
        "id": "IzPd2lB_lx8X"
      },
      "outputs": [],
      "source": [
        "df.withColumn('cumsum',sum('Item_MRP').over(Window.orderBy('Item_Type').rowsBetween(Window.unboundedPreceding,Window.currentRow))).display()"
      ]
    },
    {
      "cell_type": "code",
      "execution_count": null,
      "metadata": {
        "application/vnd.databricks.v1+cell": {
          "cellMetadata": {
            "byteLimit": 2048000,
            "rowLimit": 10000
          },
          "inputWidgets": {},
          "nuid": "98a45ef3-1b48-4dea-bd6c-2496f3a8b561",
          "showTitle": false,
          "tableResultSettingsMap": {},
          "title": ""
        },
        "id": "ACMFL4Bulx8Y"
      },
      "outputs": [],
      "source": [
        "df.withColumn('totalsum',sum('Item_MRP').over(Window.orderBy('Item_Type').rowsBetween(Window.unboundedPreceding,Window.unboundedFollowing))).display()"
      ]
    },
    {
      "cell_type": "markdown",
      "metadata": {
        "application/vnd.databricks.v1+cell": {
          "cellMetadata": {},
          "inputWidgets": {},
          "nuid": "3d425b13-9b00-4e42-8ac7-180a659a8e97",
          "showTitle": false,
          "tableResultSettingsMap": {},
          "title": ""
        },
        "id": "ISVXEzHolx8Y"
      },
      "source": [
        "### USER DEFINED FUNCTIONS (UDF)"
      ]
    },
    {
      "cell_type": "markdown",
      "metadata": {
        "application/vnd.databricks.v1+cell": {
          "cellMetadata": {},
          "inputWidgets": {},
          "nuid": "de5db788-001e-4567-bead-0b850b3bb089",
          "showTitle": false,
          "tableResultSettingsMap": {},
          "title": ""
        },
        "id": "MZ2UdKxzlx8Y"
      },
      "source": [
        "#### STEP - 1"
      ]
    },
    {
      "cell_type": "code",
      "execution_count": null,
      "metadata": {
        "application/vnd.databricks.v1+cell": {
          "cellMetadata": {
            "byteLimit": 2048000,
            "rowLimit": 10000
          },
          "inputWidgets": {},
          "nuid": "13793fef-567a-4e36-a707-b1c11d907a0f",
          "showTitle": false,
          "tableResultSettingsMap": {},
          "title": ""
        },
        "id": "mo7mn3aklx8Y"
      },
      "outputs": [],
      "source": [
        "def my_func(x):\n",
        "    return x*x"
      ]
    },
    {
      "cell_type": "markdown",
      "metadata": {
        "application/vnd.databricks.v1+cell": {
          "cellMetadata": {},
          "inputWidgets": {},
          "nuid": "d7b74770-210b-49b1-b925-2a50c0d689bc",
          "showTitle": false,
          "tableResultSettingsMap": {},
          "title": ""
        },
        "id": "ekJMmRm5lx8Z"
      },
      "source": [
        "#### STEP - 2"
      ]
    },
    {
      "cell_type": "code",
      "execution_count": null,
      "metadata": {
        "application/vnd.databricks.v1+cell": {
          "cellMetadata": {
            "byteLimit": 2048000,
            "rowLimit": 10000
          },
          "inputWidgets": {},
          "nuid": "888f6213-0ff5-40c9-b176-977f324fc108",
          "showTitle": false,
          "tableResultSettingsMap": {},
          "title": ""
        },
        "id": "yylFQ0solx8Z"
      },
      "outputs": [],
      "source": [
        "my_udf = udf(my_func)"
      ]
    },
    {
      "cell_type": "code",
      "execution_count": null,
      "metadata": {
        "application/vnd.databricks.v1+cell": {
          "cellMetadata": {
            "byteLimit": 2048000,
            "rowLimit": 10000
          },
          "inputWidgets": {},
          "nuid": "c2864e9b-3341-48f3-b4a5-591b8b6d2094",
          "showTitle": false,
          "tableResultSettingsMap": {},
          "title": ""
        },
        "id": "H5FlIqtDlx8a"
      },
      "outputs": [],
      "source": [
        "df.withColumn('mynewcol',my_udf('Item_MRP')).display()"
      ]
    },
    {
      "cell_type": "markdown",
      "metadata": {
        "application/vnd.databricks.v1+cell": {
          "cellMetadata": {},
          "inputWidgets": {},
          "nuid": "50494da0-94f2-414a-99c3-39cd329907b2",
          "showTitle": false,
          "tableResultSettingsMap": {},
          "title": ""
        },
        "id": "zM_z8wOvlx8a"
      },
      "source": [
        "### DATA WRITING"
      ]
    },
    {
      "cell_type": "markdown",
      "metadata": {
        "application/vnd.databricks.v1+cell": {
          "cellMetadata": {},
          "inputWidgets": {},
          "nuid": "f4e50c9c-5353-4394-985f-2d9fe937075d",
          "showTitle": false,
          "tableResultSettingsMap": {},
          "title": ""
        },
        "id": "zcGb2nfllx8a"
      },
      "source": [
        "#### CSV"
      ]
    },
    {
      "cell_type": "code",
      "execution_count": null,
      "metadata": {
        "application/vnd.databricks.v1+cell": {
          "cellMetadata": {
            "byteLimit": 2048000,
            "rowLimit": 10000
          },
          "inputWidgets": {},
          "nuid": "0e768d29-a0d9-46e0-8e27-3da3c1bc63e6",
          "showTitle": false,
          "tableResultSettingsMap": {},
          "title": ""
        },
        "id": "BG5P-Ca8lx8b"
      },
      "outputs": [],
      "source": [
        "df.write.format('csv')\\\n",
        "        .save('/FileStore/tables/CSV/data.csv')"
      ]
    },
    {
      "cell_type": "markdown",
      "metadata": {
        "application/vnd.databricks.v1+cell": {
          "cellMetadata": {},
          "inputWidgets": {},
          "nuid": "f0eb2051-3799-4e4a-9ee7-faedab65ab80",
          "showTitle": false,
          "tableResultSettingsMap": {},
          "title": ""
        },
        "id": "NJ9PK2Ehlx8b"
      },
      "source": [
        "#### APPEND"
      ]
    },
    {
      "cell_type": "code",
      "execution_count": null,
      "metadata": {
        "application/vnd.databricks.v1+cell": {
          "cellMetadata": {
            "byteLimit": 2048000,
            "rowLimit": 10000
          },
          "inputWidgets": {},
          "nuid": "910d3b05-9ea3-4f9e-8d5e-a68df263978e",
          "showTitle": false,
          "tableResultSettingsMap": {},
          "title": ""
        },
        "id": "3MrDXPoulx8b"
      },
      "outputs": [],
      "source": [
        "df.write.format('csv')\\\n",
        "        .mode('append')\\\n",
        "        .save('/FileStore/tables/CSV/data.csv')"
      ]
    },
    {
      "cell_type": "code",
      "execution_count": null,
      "metadata": {
        "application/vnd.databricks.v1+cell": {
          "cellMetadata": {
            "byteLimit": 2048000,
            "rowLimit": 10000
          },
          "inputWidgets": {},
          "nuid": "f102d613-eaee-43f4-af4b-0a9635d1fb68",
          "showTitle": false,
          "tableResultSettingsMap": {},
          "title": ""
        },
        "id": "yCX-JmX8lx8c"
      },
      "outputs": [],
      "source": [
        "df.write.format('csv')\\\n",
        "        .mode('append')\\\n",
        "        .option('path','/FileStore/tables/CSV/data.csv')\\\n",
        "        .save()"
      ]
    },
    {
      "cell_type": "markdown",
      "metadata": {
        "application/vnd.databricks.v1+cell": {
          "cellMetadata": {},
          "inputWidgets": {},
          "nuid": "47a19ab2-927d-43d4-99a1-de59e4582b23",
          "showTitle": false,
          "tableResultSettingsMap": {},
          "title": ""
        },
        "id": "JZfyxLkTlx8c"
      },
      "source": [
        "#### Overwrite"
      ]
    },
    {
      "cell_type": "code",
      "execution_count": null,
      "metadata": {
        "application/vnd.databricks.v1+cell": {
          "cellMetadata": {
            "byteLimit": 2048000,
            "rowLimit": 10000
          },
          "inputWidgets": {},
          "nuid": "b5abbd13-1fe5-44ac-8481-9b1eb787cd02",
          "showTitle": false,
          "tableResultSettingsMap": {},
          "title": ""
        },
        "id": "difOKP2Llx8d"
      },
      "outputs": [],
      "source": [
        "df.write.format('csv')\\\n",
        ".mode('overwrite')\\\n",
        ".option('path','/FileStore/tables/CSV/data.csv')\\\n",
        ".save()"
      ]
    },
    {
      "cell_type": "markdown",
      "metadata": {
        "application/vnd.databricks.v1+cell": {
          "cellMetadata": {},
          "inputWidgets": {},
          "nuid": "dfc645c4-dedd-4d66-a3e2-7ec6f106ff35",
          "showTitle": false,
          "tableResultSettingsMap": {},
          "title": ""
        },
        "id": "GMuqBSKrlx8d"
      },
      "source": [
        "#### Error"
      ]
    },
    {
      "cell_type": "code",
      "execution_count": null,
      "metadata": {
        "application/vnd.databricks.v1+cell": {
          "cellMetadata": {
            "byteLimit": 2048000,
            "rowLimit": 10000
          },
          "inputWidgets": {},
          "nuid": "016f3a97-9462-40d3-b6f1-416dce67cad7",
          "showTitle": false,
          "tableResultSettingsMap": {},
          "title": ""
        },
        "id": "gIyWVZiNlx8e"
      },
      "outputs": [],
      "source": [
        "df.write.format('csv')\\\n",
        ".mode('error')\\\n",
        ".option('path','/FileStore/tables/CSV/data.csv')\\\n",
        ".save()"
      ]
    },
    {
      "cell_type": "markdown",
      "metadata": {
        "application/vnd.databricks.v1+cell": {
          "cellMetadata": {},
          "inputWidgets": {},
          "nuid": "69c10a40-0135-478e-9993-a02eb4b57b0a",
          "showTitle": false,
          "tableResultSettingsMap": {},
          "title": ""
        },
        "id": "cNa_CSWdlx8e"
      },
      "source": [
        "#### Ignore"
      ]
    },
    {
      "cell_type": "code",
      "execution_count": null,
      "metadata": {
        "application/vnd.databricks.v1+cell": {
          "cellMetadata": {
            "byteLimit": 2048000,
            "rowLimit": 10000
          },
          "inputWidgets": {},
          "nuid": "e5329231-9a13-4d3d-9e23-77b0e254f532",
          "showTitle": false,
          "tableResultSettingsMap": {},
          "title": ""
        },
        "id": "B4GcP3m-lx8f"
      },
      "outputs": [],
      "source": [
        "df.write.format('csv')\\\n",
        ".mode('ignore')\\\n",
        ".option('path','/FileStore/tables/CSV/data.csv')\\\n",
        ".save()"
      ]
    },
    {
      "cell_type": "markdown",
      "metadata": {
        "application/vnd.databricks.v1+cell": {
          "cellMetadata": {},
          "inputWidgets": {},
          "nuid": "c2c09e1f-3dad-4bf9-9899-b02e0ff6f3f8",
          "showTitle": false,
          "tableResultSettingsMap": {},
          "title": ""
        },
        "id": "OBVEC6HVlx8f"
      },
      "source": [
        "#### PARQUET"
      ]
    },
    {
      "cell_type": "code",
      "execution_count": null,
      "metadata": {
        "application/vnd.databricks.v1+cell": {
          "cellMetadata": {
            "byteLimit": 2048000,
            "rowLimit": 10000
          },
          "inputWidgets": {},
          "nuid": "45ed7f58-19bc-4e51-8c45-ead10f55dae9",
          "showTitle": false,
          "tableResultSettingsMap": {},
          "title": ""
        },
        "id": "KmVJfoFXlx8g"
      },
      "outputs": [],
      "source": [
        "df.write.format('parquet')\\\n",
        ".mode('overwrite')\\\n",
        ".option('path','/FileStore/tables/CSV/data.csv')\\\n",
        ".save()"
      ]
    }
  ],
  "metadata": {
    "application/vnd.databricks.v1+notebook": {
      "dashboards": [],
      "environmentMetadata": null,
      "language": "python",
      "notebookMetadata": {
        "mostRecentlyExecutedCommandWithImplicitDF": {
          "commandId": 57368309943301,
          "dataframes": [
            "_sqldf"
          ]
        },
        "pythonIndentUnit": 4
      },
      "notebookName": "1_Tutoral",
      "widgets": {}
    },
    "colab": {
      "provenance": []
    }
  },
  "nbformat": 4,
  "nbformat_minor": 0
}