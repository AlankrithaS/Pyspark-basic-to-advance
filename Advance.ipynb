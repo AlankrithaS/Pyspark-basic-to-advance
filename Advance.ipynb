{
  "cells": [
    {
      "cell_type": "markdown",
      "source": [
        "Advance Commands"
      ],
      "metadata": {
        "id": "OTWYd5Klm_Kc"
      }
    },
    {
      "cell_type": "markdown",
      "metadata": {
        "application/vnd.databricks.v1+cell": {
          "cellMetadata": {
            "byteLimit": 2048000,
            "rowLimit": 10000
          },
          "inputWidgets": {},
          "nuid": "50dc946f-581c-4d43-a285-f95b69a522e3",
          "showTitle": false,
          "tableResultSettingsMap": {},
          "title": ""
        },
        "id": "9GabxobHmkOL"
      },
      "source": [
        "# DATA READING"
      ]
    },
    {
      "cell_type": "markdown",
      "metadata": {
        "application/vnd.databricks.v1+cell": {
          "cellMetadata": {
            "byteLimit": 2048000,
            "rowLimit": 10000
          },
          "inputWidgets": {},
          "nuid": "5c513a09-fb47-4f38-a659-a77c25c2ecb6",
          "showTitle": false,
          "tableResultSettingsMap": {},
          "title": ""
        },
        "id": "ciMmkzVOmkOO"
      },
      "source": [
        "### Data Reading JSON"
      ]
    },
    {
      "cell_type": "markdown",
      "metadata": {
        "application/vnd.databricks.v1+cell": {
          "cellMetadata": {
            "byteLimit": 2048000,
            "rowLimit": 10000
          },
          "inputWidgets": {},
          "nuid": "1bb77c66-0ba0-41b9-9ed5-a01b5499e08d",
          "showTitle": false,
          "tableResultSettingsMap": {},
          "title": ""
        },
        "id": "4K-NGt07mkPA"
      },
      "source": [
        "### Collect_List"
      ]
    },
    {
      "cell_type": "code",
      "execution_count": null,
      "metadata": {
        "application/vnd.databricks.v1+cell": {
          "cellMetadata": {
            "byteLimit": 2048000,
            "rowLimit": 10000
          },
          "inputWidgets": {},
          "nuid": "0e9f704d-6bd0-499a-af3e-69def869af8c",
          "showTitle": false,
          "tableResultSettingsMap": {},
          "title": ""
        },
        "id": "IZkozBD2mkPA"
      },
      "outputs": [],
      "source": [
        "data = [('user1','book1'),\n",
        "        ('user1','book2'),\n",
        "        ('user2','book2'),\n",
        "        ('user2','book4'),\n",
        "        ('user3','book1')]\n",
        "\n",
        "schema = 'user string, book string'\n",
        "\n",
        "df_book = spark.createDataFrame(data,schema)\n",
        "\n",
        "df_book.display()"
      ]
    },
    {
      "cell_type": "code",
      "execution_count": null,
      "metadata": {
        "application/vnd.databricks.v1+cell": {
          "cellMetadata": {
            "byteLimit": 2048000,
            "rowLimit": 10000
          },
          "inputWidgets": {},
          "nuid": "48f241f8-e84b-4298-b368-3bf243ef7fee",
          "showTitle": false,
          "tableResultSettingsMap": {},
          "title": ""
        },
        "id": "U_T13RIHmkPA"
      },
      "outputs": [],
      "source": [
        "df_book.groupBy('user').agg(collect_list('book')).display()"
      ]
    },
    {
      "cell_type": "code",
      "execution_count": null,
      "metadata": {
        "application/vnd.databricks.v1+cell": {
          "cellMetadata": {
            "byteLimit": 2048000,
            "rowLimit": 10000
          },
          "inputWidgets": {},
          "nuid": "1196cacd-7308-4278-b38a-ab58d2151ce2",
          "showTitle": false,
          "tableResultSettingsMap": {},
          "title": ""
        },
        "id": "5n6BzZ3zmkPA"
      },
      "outputs": [],
      "source": [
        "df.select('Item_Type','Outlet_Size','Item_MRP').display()"
      ]
    },
    {
      "cell_type": "markdown",
      "metadata": {
        "application/vnd.databricks.v1+cell": {
          "cellMetadata": {
            "byteLimit": 2048000,
            "rowLimit": 10000
          },
          "inputWidgets": {},
          "nuid": "0a9e5ea0-b327-480c-afc6-f3951e3e7aa9",
          "showTitle": false,
          "tableResultSettingsMap": {},
          "title": ""
        },
        "id": "1_nbXG4pmkPA"
      },
      "source": [
        "### PIVOT"
      ]
    },
    {
      "cell_type": "code",
      "execution_count": null,
      "metadata": {
        "application/vnd.databricks.v1+cell": {
          "cellMetadata": {
            "byteLimit": 2048000,
            "rowLimit": 10000
          },
          "inputWidgets": {},
          "nuid": "c38cebc8-2136-4280-80a2-bdef1e08081f",
          "showTitle": false,
          "tableResultSettingsMap": {},
          "title": ""
        },
        "id": "X_ekqHl6mkPB"
      },
      "outputs": [],
      "source": [
        "df.groupBy('Item_Type').pivot('Outlet_Size').agg(avg('Item_MRP')).display()"
      ]
    },
    {
      "cell_type": "markdown",
      "metadata": {
        "application/vnd.databricks.v1+cell": {
          "cellMetadata": {
            "byteLimit": 2048000,
            "rowLimit": 10000
          },
          "inputWidgets": {},
          "nuid": "044acc7b-cce1-4ce3-89ae-bde0e00a1f35",
          "showTitle": false,
          "tableResultSettingsMap": {},
          "title": ""
        },
        "id": "SSdMezJvmkPB"
      },
      "source": [
        "### When-Otherwise"
      ]
    },
    {
      "cell_type": "markdown",
      "metadata": {
        "application/vnd.databricks.v1+cell": {
          "cellMetadata": {
            "byteLimit": 2048000,
            "rowLimit": 10000
          },
          "inputWidgets": {},
          "nuid": "759fd0a2-f4ae-44c0-8869-6efb7aa00c58",
          "showTitle": false,
          "tableResultSettingsMap": {},
          "title": ""
        },
        "id": "FH740pdnmkPB"
      },
      "source": [
        "#### Scenario - 1"
      ]
    },
    {
      "cell_type": "code",
      "execution_count": null,
      "metadata": {
        "application/vnd.databricks.v1+cell": {
          "cellMetadata": {
            "byteLimit": 2048000,
            "rowLimit": 10000
          },
          "inputWidgets": {},
          "nuid": "ba14c4b5-167d-4e84-9abf-2707750384fe",
          "showTitle": false,
          "tableResultSettingsMap": {},
          "title": ""
        },
        "id": "F8IojY7GmkPC"
      },
      "outputs": [],
      "source": [
        "df = df.withColumn('veg_flag',when(col('Item_Type')=='Meat','Non-Veg').otherwise('Veg'))"
      ]
    },
    {
      "cell_type": "code",
      "execution_count": null,
      "metadata": {
        "application/vnd.databricks.v1+cell": {
          "cellMetadata": {
            "byteLimit": 2048000,
            "rowLimit": 10000
          },
          "inputWidgets": {},
          "nuid": "5eb81236-a6e0-42dc-a8d4-b3383a04d14e",
          "showTitle": false,
          "tableResultSettingsMap": {},
          "title": ""
        },
        "id": "hiYjQxS5mkPC"
      },
      "outputs": [],
      "source": [
        "df.display()"
      ]
    },
    {
      "cell_type": "code",
      "execution_count": null,
      "metadata": {
        "application/vnd.databricks.v1+cell": {
          "cellMetadata": {
            "byteLimit": 2048000,
            "rowLimit": 10000
          },
          "inputWidgets": {},
          "nuid": "5f75e153-16d3-4fa2-8a5a-6464f6db59f9",
          "showTitle": false,
          "tableResultSettingsMap": {},
          "title": ""
        },
        "id": "0lePhHBwmkPC"
      },
      "outputs": [],
      "source": [
        "df.withColumn('veg_exp_flag',when(((col('veg_flag')=='Veg') & (col('Item_MRP')<100)),'Veg_Inexpensive')\\\n",
        "                            .when((col('veg_flag')=='Veg') & (col('Item_MRP')>100),'Veg_Expensive')\\\n",
        "                            .otherwise('Non_Veg')).display()"
      ]
    },
    {
      "cell_type": "markdown",
      "metadata": {
        "application/vnd.databricks.v1+cell": {
          "cellMetadata": {
            "byteLimit": 2048000,
            "rowLimit": 10000
          },
          "inputWidgets": {},
          "nuid": "a4de23d4-2f19-40bf-ba75-6cf8acf06954",
          "showTitle": false,
          "tableResultSettingsMap": {},
          "title": ""
        },
        "id": "KC4OlD1xmkPD"
      },
      "source": [
        "### JOINS"
      ]
    },
    {
      "cell_type": "code",
      "execution_count": null,
      "metadata": {
        "application/vnd.databricks.v1+cell": {
          "cellMetadata": {
            "byteLimit": 2048000,
            "rowLimit": 10000
          },
          "inputWidgets": {},
          "nuid": "bf98a289-6598-4f74-8629-f1d0452c7e5c",
          "showTitle": false,
          "tableResultSettingsMap": {},
          "title": ""
        },
        "id": "M1Z3g1XtmkPD"
      },
      "outputs": [],
      "source": [
        "dataj1 = [('1','gaur','d01'),\n",
        "          ('2','kit','d02'),\n",
        "          ('3','sam','d03'),\n",
        "          ('4','tim','d03'),\n",
        "          ('5','aman','d05'),\n",
        "          ('6','nad','d06')]\n",
        "\n",
        "schemaj1 = 'emp_id STRING, emp_name STRING, dept_id STRING'\n",
        "\n",
        "df1 = spark.createDataFrame(dataj1,schemaj1)\n",
        "\n",
        "dataj2 = [('d01','HR'),\n",
        "          ('d02','Marketing'),\n",
        "          ('d03','Accounts'),\n",
        "          ('d04','IT'),\n",
        "          ('d05','Finance')]\n",
        "\n",
        "schemaj2 = 'dept_id STRING, department STRING'\n",
        "\n",
        "df2 = spark.createDataFrame(dataj2,schemaj2)"
      ]
    },
    {
      "cell_type": "code",
      "execution_count": null,
      "metadata": {
        "application/vnd.databricks.v1+cell": {
          "cellMetadata": {
            "byteLimit": 2048000,
            "rowLimit": 10000
          },
          "inputWidgets": {},
          "nuid": "b077f0e7-2d4f-4f25-a37c-c342a1a9f5d3",
          "showTitle": false,
          "tableResultSettingsMap": {},
          "title": ""
        },
        "id": "iNDccAi-mkPG"
      },
      "outputs": [],
      "source": [
        "df1.display()"
      ]
    },
    {
      "cell_type": "code",
      "execution_count": null,
      "metadata": {
        "application/vnd.databricks.v1+cell": {
          "cellMetadata": {
            "byteLimit": 2048000,
            "rowLimit": 10000
          },
          "inputWidgets": {},
          "nuid": "4635a516-04d7-4860-8df2-188eb8cfaa6d",
          "showTitle": false,
          "tableResultSettingsMap": {},
          "title": ""
        },
        "id": "ABRv7MvimkPH"
      },
      "outputs": [],
      "source": [
        "df2.display()"
      ]
    },
    {
      "cell_type": "markdown",
      "metadata": {
        "application/vnd.databricks.v1+cell": {
          "cellMetadata": {
            "byteLimit": 2048000,
            "rowLimit": 10000
          },
          "inputWidgets": {},
          "nuid": "f1527717-568b-4eba-9145-a71e572fedf6",
          "showTitle": false,
          "tableResultSettingsMap": {},
          "title": ""
        },
        "id": "j69Mk4xjmkPI"
      },
      "source": [
        "#### Inner Join"
      ]
    },
    {
      "cell_type": "code",
      "execution_count": null,
      "metadata": {
        "application/vnd.databricks.v1+cell": {
          "cellMetadata": {
            "byteLimit": 2048000,
            "rowLimit": 10000
          },
          "inputWidgets": {},
          "nuid": "15ec06df-78d9-4ede-a9eb-617660f62129",
          "showTitle": false,
          "tableResultSettingsMap": {},
          "title": ""
        },
        "id": "MhpUYqOcmkPI"
      },
      "outputs": [],
      "source": [
        "df1.join(df2, df1['dept_id']==df2['dept_id'],'inner').display()"
      ]
    },
    {
      "cell_type": "markdown",
      "metadata": {
        "application/vnd.databricks.v1+cell": {
          "cellMetadata": {
            "byteLimit": 2048000,
            "rowLimit": 10000
          },
          "inputWidgets": {},
          "nuid": "a855fbc2-4d4c-4e49-8dfd-59223458c6d5",
          "showTitle": false,
          "tableResultSettingsMap": {},
          "title": ""
        },
        "id": "i2kO_gyzmkPJ"
      },
      "source": [
        "#### Left Join"
      ]
    },
    {
      "cell_type": "code",
      "execution_count": null,
      "metadata": {
        "application/vnd.databricks.v1+cell": {
          "cellMetadata": {
            "byteLimit": 2048000,
            "rowLimit": 10000
          },
          "inputWidgets": {},
          "nuid": "62578cd9-af8c-4209-b1cb-20eb7fd389cd",
          "showTitle": false,
          "tableResultSettingsMap": {},
          "title": ""
        },
        "id": "oC8KmPf2mkPJ"
      },
      "outputs": [],
      "source": [
        "df1.join(df2,df1['dept_id']==df2['dept_id'],'left').display()"
      ]
    },
    {
      "cell_type": "markdown",
      "metadata": {
        "application/vnd.databricks.v1+cell": {
          "cellMetadata": {
            "byteLimit": 2048000,
            "rowLimit": 10000
          },
          "inputWidgets": {},
          "nuid": "f7ede923-a6ad-49df-8a46-2ce496fa508d",
          "showTitle": false,
          "tableResultSettingsMap": {},
          "title": ""
        },
        "id": "_KLXX6mpmkPJ"
      },
      "source": [
        "#### LEFT JOIN"
      ]
    },
    {
      "cell_type": "code",
      "execution_count": null,
      "metadata": {
        "application/vnd.databricks.v1+cell": {
          "cellMetadata": {
            "byteLimit": 2048000,
            "rowLimit": 10000
          },
          "inputWidgets": {},
          "nuid": "4d21c653-2e75-45b8-9a06-eed9905e9be0",
          "showTitle": false,
          "tableResultSettingsMap": {},
          "title": ""
        },
        "id": "HFyogzbxmkPJ"
      },
      "outputs": [],
      "source": [
        "df1.join(df2,df1['dept_id']==df2['dept_id'],'right').display()"
      ]
    },
    {
      "cell_type": "markdown",
      "metadata": {
        "application/vnd.databricks.v1+cell": {
          "cellMetadata": {
            "byteLimit": 2048000,
            "rowLimit": 10000
          },
          "inputWidgets": {},
          "nuid": "445fee52-50fa-4a49-a091-82238bceffd5",
          "showTitle": false,
          "tableResultSettingsMap": {},
          "title": ""
        },
        "id": "Lf9FtnwImkPJ"
      },
      "source": [
        "#### ANTI JOIN"
      ]
    },
    {
      "cell_type": "code",
      "execution_count": null,
      "metadata": {
        "application/vnd.databricks.v1+cell": {
          "cellMetadata": {
            "byteLimit": 2048000,
            "rowLimit": 10000
          },
          "inputWidgets": {},
          "nuid": "d5fa0947-20a1-4928-b958-6d93099aa96c",
          "showTitle": false,
          "tableResultSettingsMap": {},
          "title": ""
        },
        "id": "_uXw3rp_mkPJ"
      },
      "outputs": [],
      "source": [
        "df1.join(df2,df1['dept_id']==df2['dept_id'],'anti').display()"
      ]
    },
    {
      "cell_type": "markdown",
      "metadata": {
        "application/vnd.databricks.v1+cell": {
          "cellMetadata": {
            "byteLimit": 2048000,
            "rowLimit": 10000
          },
          "inputWidgets": {},
          "nuid": "43b6874c-c687-47e5-bdc5-bb62e1447616",
          "showTitle": false,
          "tableResultSettingsMap": {},
          "title": ""
        },
        "id": "ob-eiCcFmkPK"
      },
      "source": [
        "### WINDOW FUNCTIONS"
      ]
    },
    {
      "cell_type": "markdown",
      "metadata": {
        "application/vnd.databricks.v1+cell": {
          "cellMetadata": {
            "byteLimit": 2048000,
            "rowLimit": 10000
          },
          "inputWidgets": {},
          "nuid": "2c756731-572c-4d2d-8e0c-e0d377eda808",
          "showTitle": false,
          "tableResultSettingsMap": {},
          "title": ""
        },
        "id": "vIHKUdOKmkPK"
      },
      "source": [
        "#### ROW_NUMBER()"
      ]
    },
    {
      "cell_type": "code",
      "execution_count": null,
      "metadata": {
        "application/vnd.databricks.v1+cell": {
          "cellMetadata": {
            "byteLimit": 2048000,
            "rowLimit": 10000
          },
          "inputWidgets": {},
          "nuid": "ad7d3038-5cf1-4853-92b2-4d4d6c77fe63",
          "showTitle": false,
          "tableResultSettingsMap": {},
          "title": ""
        },
        "id": "5shhKeDcmkPK"
      },
      "outputs": [],
      "source": [
        "df.display()"
      ]
    },
    {
      "cell_type": "code",
      "execution_count": null,
      "metadata": {
        "application/vnd.databricks.v1+cell": {
          "cellMetadata": {
            "byteLimit": 2048000,
            "rowLimit": 10000
          },
          "inputWidgets": {},
          "nuid": "85e06bb4-5d1e-41c2-b61f-59ab7a276f1c",
          "showTitle": false,
          "tableResultSettingsMap": {},
          "title": ""
        },
        "id": "nZds3Ti0mkPL"
      },
      "outputs": [],
      "source": [
        "from pyspark.sql.window import Window"
      ]
    },
    {
      "cell_type": "code",
      "execution_count": null,
      "metadata": {
        "application/vnd.databricks.v1+cell": {
          "cellMetadata": {
            "byteLimit": 2048000,
            "rowLimit": 10000
          },
          "inputWidgets": {},
          "nuid": "65b4c1a7-f7d5-4b8f-b849-a161121af976",
          "showTitle": false,
          "tableResultSettingsMap": {},
          "title": ""
        },
        "id": "aR0v0CEGmkPL"
      },
      "outputs": [],
      "source": [
        "df.withColumn('rowCol',row_number().over(Window.orderBy('Item_Identifier'))).display()"
      ]
    },
    {
      "cell_type": "markdown",
      "metadata": {
        "application/vnd.databricks.v1+cell": {
          "cellMetadata": {
            "byteLimit": 2048000,
            "rowLimit": 10000
          },
          "inputWidgets": {},
          "nuid": "7a070a6d-a51d-40b3-8a6e-158ac4ca0699",
          "showTitle": false,
          "tableResultSettingsMap": {},
          "title": ""
        },
        "id": "bFi8bzeWmkPM"
      },
      "source": [
        "#### RANK VS DENSE RANK"
      ]
    },
    {
      "cell_type": "code",
      "execution_count": null,
      "metadata": {
        "application/vnd.databricks.v1+cell": {
          "cellMetadata": {
            "byteLimit": 2048000,
            "rowLimit": 10000
          },
          "inputWidgets": {},
          "nuid": "e77753e4-3204-4a43-a1b9-9b2c0bb8b508",
          "showTitle": false,
          "tableResultSettingsMap": {},
          "title": ""
        },
        "id": "qhaiwMAHmkPM"
      },
      "outputs": [],
      "source": [
        "df.withColumn('rank',rank().over(Window.orderBy(col('Item_Identifier').desc())))\\\n",
        "        .withColumn('denseRank',dense_rank().over(Window.orderBy(col('Item_Identifier').desc()))).display()"
      ]
    },
    {
      "cell_type": "code",
      "execution_count": null,
      "metadata": {
        "application/vnd.databricks.v1+cell": {
          "cellMetadata": {
            "byteLimit": 2048000,
            "rowLimit": 10000
          },
          "inputWidgets": {},
          "nuid": "6471c6dc-d767-4aa3-9402-7486e2c3590e",
          "showTitle": false,
          "tableResultSettingsMap": {},
          "title": ""
        },
        "id": "erpW6Vj7mkPM"
      },
      "outputs": [],
      "source": [
        "df.withColumn('dum',sum('Item_MRP').over(Window.orderBy('Item_Identifier').rowsBetween(Window.unboundedPreceding,Window.currentRow))).display()"
      ]
    },
    {
      "cell_type": "markdown",
      "metadata": {
        "application/vnd.databricks.v1+cell": {
          "cellMetadata": {},
          "inputWidgets": {},
          "nuid": "ef47e65f-fbf9-4ade-bf6d-37b96aa71e17",
          "showTitle": false,
          "tableResultSettingsMap": {},
          "title": ""
        },
        "id": "t_RI-nfJmkPM"
      },
      "source": [
        "#### Cumulative Sum"
      ]
    },
    {
      "cell_type": "code",
      "execution_count": null,
      "metadata": {
        "application/vnd.databricks.v1+cell": {
          "cellMetadata": {
            "byteLimit": 2048000,
            "rowLimit": 10000
          },
          "inputWidgets": {},
          "nuid": "7f70c0df-034e-47f1-aa3b-edc1d27a5136",
          "showTitle": false,
          "tableResultSettingsMap": {},
          "title": ""
        },
        "id": "ZHP5tDNVmkPN"
      },
      "outputs": [],
      "source": [
        "df.withColumn('cumsum',sum('Item_MRP').over(Window.orderBy('Item_Type'))).display()"
      ]
    },
    {
      "cell_type": "code",
      "execution_count": null,
      "metadata": {
        "application/vnd.databricks.v1+cell": {
          "cellMetadata": {
            "byteLimit": 2048000,
            "rowLimit": 10000
          },
          "inputWidgets": {},
          "nuid": "77e1abba-3190-4eae-b400-73ad32e49f67",
          "showTitle": false,
          "tableResultSettingsMap": {},
          "title": ""
        },
        "id": "apMOK7_5mkPN"
      },
      "outputs": [],
      "source": [
        "df.withColumn('cumsum',sum('Item_MRP').over(Window.orderBy('Item_Type').rowsBetween(Window.unboundedPreceding,Window.currentRow))).display()"
      ]
    },
    {
      "cell_type": "code",
      "execution_count": null,
      "metadata": {
        "application/vnd.databricks.v1+cell": {
          "cellMetadata": {
            "byteLimit": 2048000,
            "rowLimit": 10000
          },
          "inputWidgets": {},
          "nuid": "98a45ef3-1b48-4dea-bd6c-2496f3a8b561",
          "showTitle": false,
          "tableResultSettingsMap": {},
          "title": ""
        },
        "id": "dnkCGNS3mkPN"
      },
      "outputs": [],
      "source": [
        "df.withColumn('totalsum',sum('Item_MRP').over(Window.orderBy('Item_Type').rowsBetween(Window.unboundedPreceding,Window.unboundedFollowing))).display()"
      ]
    },
    {
      "cell_type": "markdown",
      "metadata": {
        "application/vnd.databricks.v1+cell": {
          "cellMetadata": {},
          "inputWidgets": {},
          "nuid": "3d425b13-9b00-4e42-8ac7-180a659a8e97",
          "showTitle": false,
          "tableResultSettingsMap": {},
          "title": ""
        },
        "id": "sIoBUKLFmkPN"
      },
      "source": [
        "### USER DEFINED FUNCTIONS (UDF)"
      ]
    },
    {
      "cell_type": "markdown",
      "metadata": {
        "application/vnd.databricks.v1+cell": {
          "cellMetadata": {},
          "inputWidgets": {},
          "nuid": "de5db788-001e-4567-bead-0b850b3bb089",
          "showTitle": false,
          "tableResultSettingsMap": {},
          "title": ""
        },
        "id": "_Tw3OaUcmkPN"
      },
      "source": [
        "#### STEP - 1"
      ]
    },
    {
      "cell_type": "code",
      "execution_count": null,
      "metadata": {
        "application/vnd.databricks.v1+cell": {
          "cellMetadata": {
            "byteLimit": 2048000,
            "rowLimit": 10000
          },
          "inputWidgets": {},
          "nuid": "13793fef-567a-4e36-a707-b1c11d907a0f",
          "showTitle": false,
          "tableResultSettingsMap": {},
          "title": ""
        },
        "id": "4zfIcc76mkPN"
      },
      "outputs": [],
      "source": [
        "def my_func(x):\n",
        "    return x*x"
      ]
    },
    {
      "cell_type": "markdown",
      "metadata": {
        "application/vnd.databricks.v1+cell": {
          "cellMetadata": {},
          "inputWidgets": {},
          "nuid": "d7b74770-210b-49b1-b925-2a50c0d689bc",
          "showTitle": false,
          "tableResultSettingsMap": {},
          "title": ""
        },
        "id": "vee9x7WmmkPO"
      },
      "source": [
        "#### STEP - 2"
      ]
    },
    {
      "cell_type": "code",
      "execution_count": null,
      "metadata": {
        "application/vnd.databricks.v1+cell": {
          "cellMetadata": {
            "byteLimit": 2048000,
            "rowLimit": 10000
          },
          "inputWidgets": {},
          "nuid": "888f6213-0ff5-40c9-b176-977f324fc108",
          "showTitle": false,
          "tableResultSettingsMap": {},
          "title": ""
        },
        "id": "vt70NpmamkPO"
      },
      "outputs": [],
      "source": [
        "my_udf = udf(my_func)"
      ]
    },
    {
      "cell_type": "code",
      "execution_count": null,
      "metadata": {
        "application/vnd.databricks.v1+cell": {
          "cellMetadata": {
            "byteLimit": 2048000,
            "rowLimit": 10000
          },
          "inputWidgets": {},
          "nuid": "c2864e9b-3341-48f3-b4a5-591b8b6d2094",
          "showTitle": false,
          "tableResultSettingsMap": {},
          "title": ""
        },
        "id": "YYzBbEwqmkPO"
      },
      "outputs": [],
      "source": [
        "df.withColumn('mynewcol',my_udf('Item_MRP')).display()"
      ]
    },
    {
      "cell_type": "markdown",
      "metadata": {
        "application/vnd.databricks.v1+cell": {
          "cellMetadata": {},
          "inputWidgets": {},
          "nuid": "50494da0-94f2-414a-99c3-39cd329907b2",
          "showTitle": false,
          "tableResultSettingsMap": {},
          "title": ""
        },
        "id": "3t-M7fJKmkPO"
      },
      "source": [
        "### DATA WRITING"
      ]
    },
    {
      "cell_type": "markdown",
      "metadata": {
        "application/vnd.databricks.v1+cell": {
          "cellMetadata": {},
          "inputWidgets": {},
          "nuid": "f4e50c9c-5353-4394-985f-2d9fe937075d",
          "showTitle": false,
          "tableResultSettingsMap": {},
          "title": ""
        },
        "id": "vwPboJVNmkPO"
      },
      "source": [
        "#### CSV"
      ]
    },
    {
      "cell_type": "code",
      "execution_count": null,
      "metadata": {
        "application/vnd.databricks.v1+cell": {
          "cellMetadata": {
            "byteLimit": 2048000,
            "rowLimit": 10000
          },
          "inputWidgets": {},
          "nuid": "0e768d29-a0d9-46e0-8e27-3da3c1bc63e6",
          "showTitle": false,
          "tableResultSettingsMap": {},
          "title": ""
        },
        "id": "NIcRWj6fmkPO"
      },
      "outputs": [],
      "source": [
        "df.write.format('csv')\\\n",
        "        .save('/FileStore/tables/CSV/data.csv')"
      ]
    },
    {
      "cell_type": "markdown",
      "metadata": {
        "application/vnd.databricks.v1+cell": {
          "cellMetadata": {},
          "inputWidgets": {},
          "nuid": "f0eb2051-3799-4e4a-9ee7-faedab65ab80",
          "showTitle": false,
          "tableResultSettingsMap": {},
          "title": ""
        },
        "id": "mp0cK48WmkPP"
      },
      "source": [
        "#### APPEND"
      ]
    },
    {
      "cell_type": "code",
      "execution_count": null,
      "metadata": {
        "application/vnd.databricks.v1+cell": {
          "cellMetadata": {
            "byteLimit": 2048000,
            "rowLimit": 10000
          },
          "inputWidgets": {},
          "nuid": "910d3b05-9ea3-4f9e-8d5e-a68df263978e",
          "showTitle": false,
          "tableResultSettingsMap": {},
          "title": ""
        },
        "id": "V3uWrwJRmkPP"
      },
      "outputs": [],
      "source": [
        "df.write.format('csv')\\\n",
        "        .mode('append')\\\n",
        "        .save('/FileStore/tables/CSV/data.csv')"
      ]
    },
    {
      "cell_type": "code",
      "execution_count": null,
      "metadata": {
        "application/vnd.databricks.v1+cell": {
          "cellMetadata": {
            "byteLimit": 2048000,
            "rowLimit": 10000
          },
          "inputWidgets": {},
          "nuid": "f102d613-eaee-43f4-af4b-0a9635d1fb68",
          "showTitle": false,
          "tableResultSettingsMap": {},
          "title": ""
        },
        "id": "N3f6AUfSmkPP"
      },
      "outputs": [],
      "source": [
        "df.write.format('csv')\\\n",
        "        .mode('append')\\\n",
        "        .option('path','/FileStore/tables/CSV/data.csv')\\\n",
        "        .save()"
      ]
    },
    {
      "cell_type": "markdown",
      "metadata": {
        "application/vnd.databricks.v1+cell": {
          "cellMetadata": {},
          "inputWidgets": {},
          "nuid": "47a19ab2-927d-43d4-99a1-de59e4582b23",
          "showTitle": false,
          "tableResultSettingsMap": {},
          "title": ""
        },
        "id": "v2mNL8jHmkPP"
      },
      "source": [
        "#### Overwrite"
      ]
    },
    {
      "cell_type": "code",
      "execution_count": null,
      "metadata": {
        "application/vnd.databricks.v1+cell": {
          "cellMetadata": {
            "byteLimit": 2048000,
            "rowLimit": 10000
          },
          "inputWidgets": {},
          "nuid": "b5abbd13-1fe5-44ac-8481-9b1eb787cd02",
          "showTitle": false,
          "tableResultSettingsMap": {},
          "title": ""
        },
        "id": "AgnvgbxwmkPQ"
      },
      "outputs": [],
      "source": [
        "df.write.format('csv')\\\n",
        ".mode('overwrite')\\\n",
        ".option('path','/FileStore/tables/CSV/data.csv')\\\n",
        ".save()"
      ]
    },
    {
      "cell_type": "markdown",
      "metadata": {
        "application/vnd.databricks.v1+cell": {
          "cellMetadata": {},
          "inputWidgets": {},
          "nuid": "dfc645c4-dedd-4d66-a3e2-7ec6f106ff35",
          "showTitle": false,
          "tableResultSettingsMap": {},
          "title": ""
        },
        "id": "4MMeEF_CmkPQ"
      },
      "source": [
        "#### Error"
      ]
    },
    {
      "cell_type": "code",
      "execution_count": null,
      "metadata": {
        "application/vnd.databricks.v1+cell": {
          "cellMetadata": {
            "byteLimit": 2048000,
            "rowLimit": 10000
          },
          "inputWidgets": {},
          "nuid": "016f3a97-9462-40d3-b6f1-416dce67cad7",
          "showTitle": false,
          "tableResultSettingsMap": {},
          "title": ""
        },
        "id": "dyfYXoQ_mkPQ"
      },
      "outputs": [],
      "source": [
        "df.write.format('csv')\\\n",
        ".mode('error')\\\n",
        ".option('path','/FileStore/tables/CSV/data.csv')\\\n",
        ".save()"
      ]
    },
    {
      "cell_type": "markdown",
      "metadata": {
        "application/vnd.databricks.v1+cell": {
          "cellMetadata": {},
          "inputWidgets": {},
          "nuid": "69c10a40-0135-478e-9993-a02eb4b57b0a",
          "showTitle": false,
          "tableResultSettingsMap": {},
          "title": ""
        },
        "id": "rQrRx0pnmkPQ"
      },
      "source": [
        "#### Ignore"
      ]
    },
    {
      "cell_type": "code",
      "execution_count": null,
      "metadata": {
        "application/vnd.databricks.v1+cell": {
          "cellMetadata": {
            "byteLimit": 2048000,
            "rowLimit": 10000
          },
          "inputWidgets": {},
          "nuid": "e5329231-9a13-4d3d-9e23-77b0e254f532",
          "showTitle": false,
          "tableResultSettingsMap": {},
          "title": ""
        },
        "id": "JuCLq9ZBmkPQ"
      },
      "outputs": [],
      "source": [
        "df.write.format('csv')\\\n",
        ".mode('ignore')\\\n",
        ".option('path','/FileStore/tables/CSV/data.csv')\\\n",
        ".save()"
      ]
    },
    {
      "cell_type": "markdown",
      "metadata": {
        "application/vnd.databricks.v1+cell": {
          "cellMetadata": {},
          "inputWidgets": {},
          "nuid": "c2c09e1f-3dad-4bf9-9899-b02e0ff6f3f8",
          "showTitle": false,
          "tableResultSettingsMap": {},
          "title": ""
        },
        "id": "2Fle-PCJmkPR"
      },
      "source": [
        "#### PARQUET"
      ]
    },
    {
      "cell_type": "code",
      "execution_count": null,
      "metadata": {
        "application/vnd.databricks.v1+cell": {
          "cellMetadata": {
            "byteLimit": 2048000,
            "rowLimit": 10000
          },
          "inputWidgets": {},
          "nuid": "45ed7f58-19bc-4e51-8c45-ead10f55dae9",
          "showTitle": false,
          "tableResultSettingsMap": {},
          "title": ""
        },
        "id": "8q2hPVIrmkPR"
      },
      "outputs": [],
      "source": [
        "df.write.format('parquet')\\\n",
        ".mode('overwrite')\\\n",
        ".option('path','/FileStore/tables/CSV/data.csv')\\\n",
        ".save()"
      ]
    },
    {
      "cell_type": "markdown",
      "metadata": {
        "application/vnd.databricks.v1+cell": {
          "cellMetadata": {},
          "inputWidgets": {},
          "nuid": "bce9c7d4-579f-4c07-bd31-e6bd20b3c2bd",
          "showTitle": false,
          "tableResultSettingsMap": {},
          "title": ""
        },
        "id": "weyFif_smkPR"
      },
      "source": [
        "#### TABLE"
      ]
    },
    {
      "cell_type": "code",
      "execution_count": null,
      "metadata": {
        "application/vnd.databricks.v1+cell": {
          "cellMetadata": {
            "byteLimit": 2048000,
            "rowLimit": 10000
          },
          "inputWidgets": {},
          "nuid": "5a9f5dab-a828-46cf-a3e1-cb48fbcc6885",
          "showTitle": false,
          "tableResultSettingsMap": {},
          "title": ""
        },
        "id": "5nbihcNTmkPR"
      },
      "outputs": [],
      "source": [
        "df.write.format('parquet')\\\n",
        ".mode('overwrite')\\\n",
        ".saveAsTable('my_table')"
      ]
    },
    {
      "cell_type": "code",
      "execution_count": null,
      "metadata": {
        "application/vnd.databricks.v1+cell": {
          "cellMetadata": {
            "byteLimit": 2048000,
            "rowLimit": 10000
          },
          "inputWidgets": {},
          "nuid": "f2826b10-de4b-4fa7-9ad8-1a810ef5a04b",
          "showTitle": false,
          "tableResultSettingsMap": {},
          "title": ""
        },
        "id": "VpZ073GemkPR"
      },
      "outputs": [],
      "source": [
        "df.display()"
      ]
    },
    {
      "cell_type": "markdown",
      "metadata": {
        "application/vnd.databricks.v1+cell": {
          "cellMetadata": {},
          "inputWidgets": {},
          "nuid": "4d62ab36-9703-4bb1-85b8-bba4203e8cc5",
          "showTitle": false,
          "tableResultSettingsMap": {},
          "title": ""
        },
        "id": "ppOtNn01mkPR"
      },
      "source": [
        "### SPARK SQL"
      ]
    },
    {
      "cell_type": "markdown",
      "metadata": {
        "application/vnd.databricks.v1+cell": {
          "cellMetadata": {},
          "inputWidgets": {},
          "nuid": "19713b3c-c199-4a2c-ad5e-f35ea2cad5bb",
          "showTitle": false,
          "tableResultSettingsMap": {},
          "title": ""
        },
        "id": "YY2ptqQImkPS"
      },
      "source": [
        "#### createTempView"
      ]
    },
    {
      "cell_type": "code",
      "execution_count": null,
      "metadata": {
        "application/vnd.databricks.v1+cell": {
          "cellMetadata": {
            "byteLimit": 2048000,
            "rowLimit": 10000
          },
          "inputWidgets": {},
          "nuid": "07c41af2-efb6-4de8-8fe4-aa81faf6df2b",
          "showTitle": false,
          "tableResultSettingsMap": {},
          "title": ""
        },
        "id": "2lWgdPDDmkPS"
      },
      "outputs": [],
      "source": [
        "df.createTempView('my_view')"
      ]
    },
    {
      "cell_type": "code",
      "execution_count": null,
      "metadata": {
        "application/vnd.databricks.v1+cell": {
          "cellMetadata": {
            "byteLimit": 2048000,
            "implicitDf": true,
            "rowLimit": 10000
          },
          "inputWidgets": {},
          "nuid": "700956fe-a2bb-41b3-85f3-41c68bfca751",
          "showTitle": false,
          "tableResultSettingsMap": {},
          "title": ""
        },
        "id": "c9KoHfPumkPS"
      },
      "outputs": [],
      "source": [
        "%sql\n",
        "\n",
        "select * from my_view where Item_Fat_Content = 'Lf'"
      ]
    },
    {
      "cell_type": "code",
      "execution_count": null,
      "metadata": {
        "application/vnd.databricks.v1+cell": {
          "cellMetadata": {
            "byteLimit": 2048000,
            "rowLimit": 10000
          },
          "inputWidgets": {},
          "nuid": "2a7479f6-55cc-463b-bf24-19fba6218ebc",
          "showTitle": false,
          "tableResultSettingsMap": {},
          "title": ""
        },
        "id": "xb8qXvtNmkPS"
      },
      "outputs": [],
      "source": [
        "df_sql = spark.sql(\"select * from my_view where Item_Fat_Content = 'Lf'\")"
      ]
    },
    {
      "cell_type": "code",
      "execution_count": null,
      "metadata": {
        "application/vnd.databricks.v1+cell": {
          "cellMetadata": {
            "byteLimit": 2048000,
            "rowLimit": 10000
          },
          "inputWidgets": {},
          "nuid": "bf7d3ad2-0b10-4824-9cde-cba5761a6877",
          "showTitle": false,
          "tableResultSettingsMap": {},
          "title": ""
        },
        "id": "7Rva5ZfpmkPS"
      },
      "outputs": [],
      "source": [
        "df_sql.display()"
      ]
    },
    {
      "cell_type": "code",
      "execution_count": null,
      "metadata": {
        "application/vnd.databricks.v1+cell": {
          "cellMetadata": {},
          "inputWidgets": {},
          "nuid": "13d400de-eb1e-4be8-9267-91eb91c336de",
          "showTitle": false,
          "tableResultSettingsMap": {},
          "title": ""
        },
        "id": "fPN82E-LmkPT"
      },
      "outputs": [],
      "source": []
    }
  ],
  "metadata": {
    "application/vnd.databricks.v1+notebook": {
      "dashboards": [],
      "environmentMetadata": null,
      "language": "python",
      "notebookMetadata": {
        "mostRecentlyExecutedCommandWithImplicitDF": {
          "commandId": 57368309943301,
          "dataframes": [
            "_sqldf"
          ]
        },
        "pythonIndentUnit": 4
      },
      "notebookName": "1_Tutoral",
      "widgets": {}
    },
    "colab": {
      "provenance": []
    },
    "language_info": {
      "name": "python"
    },
    "kernelspec": {
      "name": "python3",
      "display_name": "Python 3"
    }
  },
  "nbformat": 4,
  "nbformat_minor": 0
}